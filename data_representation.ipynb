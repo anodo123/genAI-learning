{
 "cells": [
  {
   "cell_type": "markdown",
   "metadata": {},
   "source": [
    "Converting the data to encoded array is very crucial, because the dimensionality difference between the arrays can make model prone to input errors"
   ]
  },
  {
   "cell_type": "markdown",
   "metadata": {},
   "source": [
    "**Some Common Terms to remember**\n",
    "1) Corpus\n",
    "2) Vocabulary\n",
    "3) Document\n",
    "4) Word"
   ]
  },
  {
   "cell_type": "markdown",
   "metadata": {},
   "source": [
    "Two Techniques Usually \n",
    "1) Bag of Words(BOW)\n",
    "2) One Hot Encoding\n",
    "3) TFIDF\n",
    "4) WORD2VEC\n",
    "5) TRANSFORMERS"
   ]
  },
  {
   "cell_type": "code",
   "execution_count": 1,
   "metadata": {},
   "outputs": [],
   "source": [
    "import numpy as np\n",
    "import pandas as pd"
   ]
  },
  {
   "cell_type": "code",
   "execution_count": 2,
   "metadata": {},
   "outputs": [],
   "source": [
    "sentences = [\n",
    "    \"I love programming and coding programming.\",\n",
    "    \"Python is a versatile language programming.\",\n",
    "    \"Machine learning is fascinating to explore.\",\n",
    "    \"Data science is the future ahead.\",\n",
    "    \"Artificial intelligence is a evolving rapidly.\",\n",
    "    \"Coding challenges improve with problem-solving skills.\",\n",
    "    \"Natural language processing is a subfield.\",\n",
    "    \"Deep learning requires large datasets PAD.\",\n",
    "    \"Visualization makes data insights clearer PAD.\",\n",
    "    \"Algorithms form the backbone of science.\"\n",
    "]"
   ]
  },
  {
   "cell_type": "code",
   "execution_count": 3,
   "metadata": {},
   "outputs": [
    {
     "data": {
      "text/html": [
       "<div>\n",
       "<style scoped>\n",
       "    .dataframe tbody tr th:only-of-type {\n",
       "        vertical-align: middle;\n",
       "    }\n",
       "\n",
       "    .dataframe tbody tr th {\n",
       "        vertical-align: top;\n",
       "    }\n",
       "\n",
       "    .dataframe thead th {\n",
       "        text-align: right;\n",
       "    }\n",
       "</style>\n",
       "<table border=\"1\" class=\"dataframe\">\n",
       "  <thead>\n",
       "    <tr style=\"text-align: right;\">\n",
       "      <th></th>\n",
       "      <th>text</th>\n",
       "      <th>output</th>\n",
       "    </tr>\n",
       "  </thead>\n",
       "  <tbody>\n",
       "    <tr>\n",
       "      <th>0</th>\n",
       "      <td>I love programming and coding programming.</td>\n",
       "      <td>1</td>\n",
       "    </tr>\n",
       "    <tr>\n",
       "      <th>1</th>\n",
       "      <td>Python is a versatile language programming.</td>\n",
       "      <td>1</td>\n",
       "    </tr>\n",
       "    <tr>\n",
       "      <th>2</th>\n",
       "      <td>Machine learning is fascinating to explore.</td>\n",
       "      <td>1</td>\n",
       "    </tr>\n",
       "    <tr>\n",
       "      <th>3</th>\n",
       "      <td>Data science is the future ahead.</td>\n",
       "      <td>1</td>\n",
       "    </tr>\n",
       "    <tr>\n",
       "      <th>4</th>\n",
       "      <td>Artificial intelligence is a evolving rapidly.</td>\n",
       "      <td>1</td>\n",
       "    </tr>\n",
       "    <tr>\n",
       "      <th>5</th>\n",
       "      <td>Coding challenges improve with problem-solving...</td>\n",
       "      <td>0</td>\n",
       "    </tr>\n",
       "    <tr>\n",
       "      <th>6</th>\n",
       "      <td>Natural language processing is a subfield.</td>\n",
       "      <td>0</td>\n",
       "    </tr>\n",
       "    <tr>\n",
       "      <th>7</th>\n",
       "      <td>Deep learning requires large datasets PAD.</td>\n",
       "      <td>0</td>\n",
       "    </tr>\n",
       "    <tr>\n",
       "      <th>8</th>\n",
       "      <td>Visualization makes data insights clearer PAD.</td>\n",
       "      <td>0</td>\n",
       "    </tr>\n",
       "    <tr>\n",
       "      <th>9</th>\n",
       "      <td>Algorithms form the backbone of science.</td>\n",
       "      <td>0</td>\n",
       "    </tr>\n",
       "  </tbody>\n",
       "</table>\n",
       "</div>"
      ],
      "text/plain": [
       "                                                text  output\n",
       "0         I love programming and coding programming.       1\n",
       "1        Python is a versatile language programming.       1\n",
       "2        Machine learning is fascinating to explore.       1\n",
       "3                  Data science is the future ahead.       1\n",
       "4     Artificial intelligence is a evolving rapidly.       1\n",
       "5  Coding challenges improve with problem-solving...       0\n",
       "6         Natural language processing is a subfield.       0\n",
       "7         Deep learning requires large datasets PAD.       0\n",
       "8     Visualization makes data insights clearer PAD.       0\n",
       "9           Algorithms form the backbone of science.       0"
      ]
     },
     "execution_count": 3,
     "metadata": {},
     "output_type": "execute_result"
    }
   ],
   "source": [
    "df = pd.DataFrame({'text':sentences,'output':[1,1,1,1,1,0,0,0,0,0]})\n",
    "df"
   ]
  },
  {
   "cell_type": "markdown",
   "metadata": {},
   "source": [
    "{'love': 23, 'programming': 31, 'and': 2, 'coding': 7, 'python': 32, 'is': 19, 'versatile': 41, 'language': 20, 'machine': 24, 'learning': 22, 'fascinating': 13, 'to': 40, 'explore': 12, 'data': 8, 'science': 35, 'the': 39, 'future': 15, 'ahead': 0, 'artificial': 3, 'intelligence': 18, 'evolving': 11, 'rapidly': 33, 'challenges': 5, 'improve': 16, 'with': 43, 'problem': 29, 'solving': 37, 'skills': 36, 'natural': 26, 'processing': 30, 'subfield': 38, 'deep': 10, 'requires': 34, 'large': 21, 'datasets': 9, 'pad': 28, 'visualization': 42, 'makes': 25, 'insights': 17, 'clearer': 6, 'algorithms': 1, 'form': 14, 'backbone': 4, 'of': 27}\n",
    "\n",
    "Through Count Vectorizer works technique, A number is assigned to every word, for every sentence an array has length of number of unique words in a vector, in that vector values are filled up, let's say programming, which has value of 31 and \"I love programming and coding programming\" this sentence has \"programming\" word two times.\n",
    "this is the sentences vector\n",
    "[0, 0, 1, 0, 0, 0, 0, 1, 0, 0, 0, 0, 0, 0, 0, 0, 0, 0, 0, 0, 0, 0,0, 1, 0, 0, 0, 0, 0, 0, 0, 2, 0, 0, 0, 0, 0, 0, 0, 0, 0, 0, 0, 0]\n",
    "Now at 31st place the value is \"2\"\n",
    "The Place of \"Programming\" in the vector is \"31\" and it occurs two times so value is \"2\".\n",
    "print([0, 0, 1, 0, 0, 0, 0, 1, 0, 0, 0, 0, 0, 0, 0, 0, 0, 0, 0, 0, 0, 0,0, 1, 0, 0, 0, 0, 0, 0, 0, 2, 0, 0, 0, 0, 0, 0, 0, 0, 0, 0, 0, 0][31])\n"
   ]
  },
  {
   "cell_type": "code",
   "execution_count": 4,
   "metadata": {},
   "outputs": [],
   "source": [
    "from sklearn.feature_extraction.text import CountVectorizer\n",
    "cv = CountVectorizer()"
   ]
  },
  {
   "cell_type": "code",
   "execution_count": 5,
   "metadata": {},
   "outputs": [],
   "source": [
    "bow = cv.fit_transform(df['text'])"
   ]
  },
  {
   "cell_type": "code",
   "execution_count": 6,
   "metadata": {},
   "outputs": [
    {
     "data": {
      "text/plain": [
       "array([[0, 0, 1, 0, 0, 0, 0, 1, 0, 0, 0, 0, 0, 0, 0, 0, 0, 0, 0, 0, 0, 0,\n",
       "        0, 1, 0, 0, 0, 0, 0, 0, 0, 2, 0, 0, 0, 0, 0, 0, 0, 0, 0, 0, 0, 0],\n",
       "       [0, 0, 0, 0, 0, 0, 0, 0, 0, 0, 0, 0, 0, 0, 0, 0, 0, 0, 0, 1, 1, 0,\n",
       "        0, 0, 0, 0, 0, 0, 0, 0, 0, 1, 1, 0, 0, 0, 0, 0, 0, 0, 0, 1, 0, 0],\n",
       "       [0, 0, 0, 0, 0, 0, 0, 0, 0, 0, 0, 0, 1, 1, 0, 0, 0, 0, 0, 1, 0, 0,\n",
       "        1, 0, 1, 0, 0, 0, 0, 0, 0, 0, 0, 0, 0, 0, 0, 0, 0, 0, 1, 0, 0, 0],\n",
       "       [1, 0, 0, 0, 0, 0, 0, 0, 1, 0, 0, 0, 0, 0, 0, 1, 0, 0, 0, 1, 0, 0,\n",
       "        0, 0, 0, 0, 0, 0, 0, 0, 0, 0, 0, 0, 0, 1, 0, 0, 0, 1, 0, 0, 0, 0],\n",
       "       [0, 0, 0, 1, 0, 0, 0, 0, 0, 0, 0, 1, 0, 0, 0, 0, 0, 0, 1, 1, 0, 0,\n",
       "        0, 0, 0, 0, 0, 0, 0, 0, 0, 0, 0, 1, 0, 0, 0, 0, 0, 0, 0, 0, 0, 0],\n",
       "       [0, 0, 0, 0, 0, 1, 0, 1, 0, 0, 0, 0, 0, 0, 0, 0, 1, 0, 0, 0, 0, 0,\n",
       "        0, 0, 0, 0, 0, 0, 0, 1, 0, 0, 0, 0, 0, 0, 1, 1, 0, 0, 0, 0, 0, 1],\n",
       "       [0, 0, 0, 0, 0, 0, 0, 0, 0, 0, 0, 0, 0, 0, 0, 0, 0, 0, 0, 1, 1, 0,\n",
       "        0, 0, 0, 0, 1, 0, 0, 0, 1, 0, 0, 0, 0, 0, 0, 0, 1, 0, 0, 0, 0, 0],\n",
       "       [0, 0, 0, 0, 0, 0, 0, 0, 0, 1, 1, 0, 0, 0, 0, 0, 0, 0, 0, 0, 0, 1,\n",
       "        1, 0, 0, 0, 0, 0, 1, 0, 0, 0, 0, 0, 1, 0, 0, 0, 0, 0, 0, 0, 0, 0],\n",
       "       [0, 0, 0, 0, 0, 0, 1, 0, 1, 0, 0, 0, 0, 0, 0, 0, 0, 1, 0, 0, 0, 0,\n",
       "        0, 0, 0, 1, 0, 0, 1, 0, 0, 0, 0, 0, 0, 0, 0, 0, 0, 0, 0, 0, 1, 0],\n",
       "       [0, 1, 0, 0, 1, 0, 0, 0, 0, 0, 0, 0, 0, 0, 1, 0, 0, 0, 0, 0, 0, 0,\n",
       "        0, 0, 0, 0, 0, 1, 0, 0, 0, 0, 0, 0, 0, 1, 0, 0, 0, 1, 0, 0, 0, 0]],\n",
       "      dtype=int64)"
      ]
     },
     "execution_count": 6,
     "metadata": {},
     "output_type": "execute_result"
    }
   ],
   "source": [
    "bow.toarray()"
   ]
  },
  {
   "cell_type": "code",
   "execution_count": 7,
   "metadata": {},
   "outputs": [
    {
     "name": "stdout",
     "output_type": "stream",
     "text": [
      "{'love': 23, 'programming': 31, 'and': 2, 'coding': 7, 'python': 32, 'is': 19, 'versatile': 41, 'language': 20, 'machine': 24, 'learning': 22, 'fascinating': 13, 'to': 40, 'explore': 12, 'data': 8, 'science': 35, 'the': 39, 'future': 15, 'ahead': 0, 'artificial': 3, 'intelligence': 18, 'evolving': 11, 'rapidly': 33, 'challenges': 5, 'improve': 16, 'with': 43, 'problem': 29, 'solving': 37, 'skills': 36, 'natural': 26, 'processing': 30, 'subfield': 38, 'deep': 10, 'requires': 34, 'large': 21, 'datasets': 9, 'pad': 28, 'visualization': 42, 'makes': 25, 'insights': 17, 'clearer': 6, 'algorithms': 1, 'form': 14, 'backbone': 4, 'of': 27}\n"
     ]
    }
   ],
   "source": [
    "print(cv.vocabulary_)"
   ]
  },
  {
   "cell_type": "markdown",
   "metadata": {},
   "source": [
    "**Add TF-IDF Here**"
   ]
  },
  {
   "cell_type": "code",
   "execution_count": null,
   "metadata": {},
   "outputs": [],
   "source": []
  },
  {
   "cell_type": "markdown",
   "metadata": {},
   "source": [
    "**Word2Vec**"
   ]
  },
  {
   "cell_type": "markdown",
   "metadata": {},
   "source": [
    "**Word2Vec** is a popular technique in Natural Language Processing (NLP) to represent words as numerical vectors in a high-dimensional space. ***It captures the semantic meaning of words based on their context within a corpus of text.***\n",
    "\n",
    "### Key Concepts of Word2Vec\n",
    "1. **Word Embedding**: Words are represented as dense, fixed-length vectors (e.g., 100-dimensional or 300-dimensional vectors). Words with similar meanings are placed closer together in the vector space.\n",
    "\n",
    "2. **Contextual Learning**: Word2Vec leverages the context in which words appear to learn their representations. For example, \"king\" and \"queen\" might appear in similar contexts, so their vectors will be close to each other.\n",
    "\n",
    "3. **Models**:\n",
    "   Word2Vec has two main training architectures:\n",
    "   - **Continuous Bag of Words (CBOW)**:\n",
    "     - Predicts a target word based on the surrounding context words.\n",
    "     - Focuses on learning from the average of context word vectors.\n",
    "   - **Skip-gram**:\n",
    "     - Predicts context words based on a target word.\n",
    "     - Particularly effective for smaller datasets and capturing rare words.\n",
    "\n",
    "4. **Training Objective**: Word2Vec uses neural networks to optimize the embeddings. It maximizes the likelihood that words appearing in similar contexts have similar vectors.\n",
    "\n",
    "### Example\n",
    "Consider the sentence: *\"The cat sat on the mat.\"*\n",
    "- In CBOW, the model might predict the word \"sat\" based on the context words \"The,\" \"cat,\" \"on,\" and \"the.\"\n",
    "- In Skip-gram, the model might predict the words \"The,\" \"cat,\" \"on,\" and \"the\" based on the word \"sat.\"\n",
    "\n",
    "### Properties of Word2Vec\n",
    "1. **Semantic Similarity**:\n",
    "   - Words with similar meanings are placed closer together in the embedding space.\n",
    "   - Example: `cosine_similarity(vector('king'), vector('queen'))` will be high.\n",
    "\n",
    "2. **Word Analogies**:\n",
    "   - Word2Vec embeddings allow solving analogies like:\n",
    "     - \"king\" - \"man\" + \"woman\" ≈ \"queen\"\n",
    "\n",
    "3. **Dimensionality Reduction**:\n",
    "   - Instead of one-hot encoding (where each word is a large, sparse vector), Word2Vec creates dense vectors of fixed dimensions, making them computationally efficient.\n",
    "\n",
    "### Implementation\n",
    "Word2Vec is implemented in libraries like:\n",
    "- **Gensim** (Python): Easy-to-use for training and using pre-trained embeddings.\n",
    "- **TensorFlow** and **PyTorch**: For customized embeddings.\n",
    "\n",
    "#### Using Pre-trained Models\n",
    "Pre-trained embeddings like **Google's Word2Vec** or **GloVe** are often used in practice to save time and leverage large-scale datasets.\n",
    "\n",
    "### Advantages\n",
    "- Captures semantic relationships between words.\n",
    "- Reduces dimensionality, making models more efficient.\n",
    "- Improves NLP tasks like text classification, sentiment analysis, and machine translation.\n",
    "\n",
    "### Limitations\n",
    "- Cannot handle out-of-vocabulary (OOV) words directly.\n",
    "- Requires a significant amount of data to generate quality embeddings.\n",
    "- Ignores the internal structure of words (e.g., morphology), which newer methods like FastText address."
   ]
  },
  {
   "cell_type": "code",
   "execution_count": 8,
   "metadata": {},
   "outputs": [
    {
     "name": "stdout",
     "output_type": "stream",
     "text": [
      "Requirement already satisfied: gensim in c:\\users\\ahmed\\appdata\\roaming\\python\\python312\\site-packages (4.3.3)\n",
      "Requirement already satisfied: numpy<2.0,>=1.18.5 in c:\\users\\ahmed\\appdata\\local\\programs\\python\\python312\\lib\\site-packages (from gensim) (1.26.1)\n",
      "Requirement already satisfied: scipy<1.14.0,>=1.7.0 in c:\\users\\ahmed\\appdata\\roaming\\python\\python312\\site-packages (from gensim) (1.13.1)\n",
      "Requirement already satisfied: smart-open>=1.8.1 in c:\\users\\ahmed\\appdata\\roaming\\python\\python312\\site-packages (from gensim) (7.1.0)\n",
      "Requirement already satisfied: wrapt in c:\\users\\ahmed\\appdata\\roaming\\python\\python312\\site-packages (from smart-open>=1.8.1->gensim) (1.17.0)\n",
      "Note: you may need to restart the kernel to use updated packages.\n"
     ]
    },
    {
     "name": "stderr",
     "output_type": "stream",
     "text": [
      "\n",
      "[notice] A new release of pip is available: 24.2 -> 24.3.1\n",
      "[notice] To update, run: python.exe -m pip install --upgrade pip\n"
     ]
    }
   ],
   "source": [
    "%pip install --upgrade gensim --user"
   ]
  },
  {
   "cell_type": "code",
   "execution_count": 9,
   "metadata": {},
   "outputs": [],
   "source": [
    "import gensim"
   ]
  },
  {
   "cell_type": "code",
   "execution_count": 10,
   "metadata": {},
   "outputs": [],
   "source": [
    "from nltk import sent_tokenize\n",
    "from gensim.utils import simple_preprocess\n",
    "import nltk"
   ]
  },
  {
   "cell_type": "code",
   "execution_count": 11,
   "metadata": {},
   "outputs": [
    {
     "name": "stderr",
     "output_type": "stream",
     "text": [
      "[nltk_data] Downloading package punkt to\n",
      "[nltk_data]     C:\\Users\\ahmed\\AppData\\Roaming\\nltk_data...\n",
      "[nltk_data]   Package punkt is already up-to-date!\n",
      "[nltk_data] Downloading package punkt_tab to\n",
      "[nltk_data]     C:\\Users\\ahmed\\AppData\\Roaming\\nltk_data...\n",
      "[nltk_data]   Package punkt_tab is already up-to-date!\n"
     ]
    },
    {
     "data": {
      "text/plain": [
       "True"
      ]
     },
     "execution_count": 11,
     "metadata": {},
     "output_type": "execute_result"
    }
   ],
   "source": [
    "nltk.download('punkt')\n",
    "# Download the punkt tokenizer data to the specified directory\n",
    "nltk.download('punkt_tab')"
   ]
  },
  {
   "cell_type": "code",
   "execution_count": 12,
   "metadata": {},
   "outputs": [],
   "source": [
    "\n",
    "# Open file and read content\n",
    "with open(\"gameofthronesbooksdataset/001ssb.txt\", \"r\", encoding=\"utf-8\") as f:\n",
    "    corpus = f.read()\n",
    "\n",
    "# Tokenize the corpus into sentences and preprocess\n",
    "story = [simple_preprocess(sent) for sent in sent_tokenize(corpus)]"
   ]
  },
  {
   "cell_type": "code",
   "execution_count": 13,
   "metadata": {},
   "outputs": [
    {
     "name": "stdout",
     "output_type": "stream",
     "text": [
      "['game', 'of', 'thrones', 'book', 'one', 'of', 'song', 'of', 'ice', 'and', 'fire', 'by', 'george', 'martin', 'prologue', 'we', 'should', 'start', 'back', 'gared', 'urged', 'as', 'the', 'woods', 'began', 'to', 'grow', 'dark', 'around', 'them']\n",
      "['the', 'wildlings', 'are', 'dead']\n"
     ]
    }
   ],
   "source": [
    "print(story[0])\n",
    "print(story[1])"
   ]
  },
  {
   "cell_type": "code",
   "execution_count": 14,
   "metadata": {},
   "outputs": [
    {
     "data": {
      "text/plain": [
       "27244"
      ]
     },
     "execution_count": 14,
     "metadata": {},
     "output_type": "execute_result"
    }
   ],
   "source": [
    "len(story)"
   ]
  },
  {
   "cell_type": "code",
   "execution_count": 15,
   "metadata": {},
   "outputs": [],
   "source": [
    "model = gensim.models.Word2Vec(\n",
    "    window = 10,\n",
    "    min_count = 2,\n",
    "    \n",
    ")"
   ]
  },
  {
   "cell_type": "code",
   "execution_count": 16,
   "metadata": {},
   "outputs": [],
   "source": [
    "model.build_vocab(story)"
   ]
  },
  {
   "cell_type": "code",
   "execution_count": 17,
   "metadata": {},
   "outputs": [
    {
     "data": {
      "text/plain": [
       "(1058206, 1423500)"
      ]
     },
     "execution_count": 17,
     "metadata": {},
     "output_type": "execute_result"
    }
   ],
   "source": [
    "model.train(story,total_examples=model.corpus_count,epochs = model.epochs)"
   ]
  },
  {
   "cell_type": "code",
   "execution_count": 18,
   "metadata": {},
   "outputs": [
    {
     "data": {
      "text/plain": [
       "[('sansa', 0.9812719821929932),\n",
       " ('bran', 0.9782366156578064),\n",
       " ('catelyn', 0.9767033457756042),\n",
       " ('he', 0.9698653817176819),\n",
       " ('arya', 0.9668296575546265),\n",
       " ('ned', 0.957272469997406),\n",
       " ('robb', 0.954663872718811),\n",
       " ('loss', 0.9333587288856506),\n",
       " ('she', 0.9215131402015686),\n",
       " ('dany', 0.919743001461029)]"
      ]
     },
     "execution_count": 18,
     "metadata": {},
     "output_type": "execute_result"
    }
   ],
   "source": [
    "model.wv.most_similar('jon')"
   ]
  },
  {
   "cell_type": "code",
   "execution_count": 19,
   "metadata": {},
   "outputs": [
    {
     "data": {
      "text/plain": [
       "0.76026416"
      ]
     },
     "execution_count": 19,
     "metadata": {},
     "output_type": "execute_result"
    }
   ],
   "source": [
    "model.wv.similarity('jon','bastard')"
   ]
  },
  {
   "cell_type": "code",
   "execution_count": 20,
   "metadata": {},
   "outputs": [],
   "source": [
    "#Cannot handle out-of-vocabulary (OOV) words directly.\n",
    "#model.wv.similarity('john','bastard')"
   ]
  },
  {
   "cell_type": "code",
   "execution_count": 21,
   "metadata": {},
   "outputs": [
    {
     "data": {
      "text/plain": [
       "(100,)"
      ]
     },
     "execution_count": 21,
     "metadata": {},
     "output_type": "execute_result"
    }
   ],
   "source": [
    "model.wv['deep'].shape"
   ]
  },
  {
   "cell_type": "code",
   "execution_count": 22,
   "metadata": {},
   "outputs": [],
   "source": [
    "vec = model.wv.get_normed_vectors()\n"
   ]
  },
  {
   "cell_type": "code",
   "execution_count": 23,
   "metadata": {},
   "outputs": [
    {
     "data": {
      "text/plain": [
       "(7432, 100)"
      ]
     },
     "execution_count": 23,
     "metadata": {},
     "output_type": "execute_result"
    }
   ],
   "source": [
    "vec.shape"
   ]
  },
  {
   "cell_type": "code",
   "execution_count": 24,
   "metadata": {},
   "outputs": [],
   "source": [
    "y = model.wv.index_to_key"
   ]
  },
  {
   "cell_type": "code",
   "execution_count": 25,
   "metadata": {},
   "outputs": [
    {
     "data": {
      "text/plain": [
       "array([[-0.02605041,  0.02918113, -0.01200826, ..., -0.16625279,\n",
       "         0.00774373,  0.12309115],\n",
       "       [-0.01610404,  0.1142247 ,  0.00513151, ..., -0.17945386,\n",
       "         0.03556407,  0.03219678],\n",
       "       [-0.1706722 ,  0.04649099,  0.03768931, ..., -0.0279575 ,\n",
       "         0.05561876, -0.11462245],\n",
       "       ...,\n",
       "       [-0.07449918, -0.04743175,  0.04847319, ..., -0.14783564,\n",
       "         0.0476921 , -0.06953512],\n",
       "       [ 0.00764005,  0.05178713,  0.01782185, ..., -0.17530124,\n",
       "        -0.00418918, -0.01470289],\n",
       "       [ 0.01918257,  0.11844984, -0.0007703 , ..., -0.19881171,\n",
       "         0.03938087, -0.03205011]], dtype=float32)"
      ]
     },
     "execution_count": 25,
     "metadata": {},
     "output_type": "execute_result"
    }
   ],
   "source": [
    "vec"
   ]
  },
  {
   "cell_type": "code",
   "execution_count": 26,
   "metadata": {},
   "outputs": [],
   "source": [
    "from sklearn.decomposition import PCA\n",
    "#"
   ]
  },
  {
   "cell_type": "code",
   "execution_count": 27,
   "metadata": {},
   "outputs": [],
   "source": [
    "pca = PCA(n_components=3)\n",
    "# n_components defines the vector dimensions."
   ]
  },
  {
   "cell_type": "code",
   "execution_count": 28,
   "metadata": {},
   "outputs": [],
   "source": [
    "X = pca.fit_transform(model.wv.get_normed_vectors())"
   ]
  },
  {
   "cell_type": "code",
   "execution_count": 29,
   "metadata": {},
   "outputs": [
    {
     "data": {
      "text/plain": [
       "array([[-0.34183878,  0.15522283,  0.36864063],\n",
       "       [-0.41560537,  0.04045856,  0.22929956],\n",
       "       [ 0.3812499 ,  0.10898286, -0.0177125 ],\n",
       "       ...,\n",
       "       [ 0.22573002,  0.06241977, -0.23165324],\n",
       "       [-0.25828993, -0.05783111,  0.05217224],\n",
       "       [-0.22164695, -0.01595664, -0.02519912]], dtype=float32)"
      ]
     },
     "execution_count": 29,
     "metadata": {},
     "output_type": "execute_result"
    }
   ],
   "source": [
    "X"
   ]
  },
  {
   "cell_type": "code",
   "execution_count": 30,
   "metadata": {},
   "outputs": [
    {
     "name": "stdout",
     "output_type": "stream",
     "text": [
      "Requirement already satisfied: plotly in c:\\users\\ahmed\\appdata\\local\\programs\\python\\python312\\lib\\site-packages (5.24.1)\n",
      "Requirement already satisfied: tenacity>=6.2.0 in c:\\users\\ahmed\\appdata\\local\\programs\\python\\python312\\lib\\site-packages (from plotly) (9.0.0)\n",
      "Requirement already satisfied: packaging in c:\\users\\ahmed\\appdata\\local\\programs\\python\\python312\\lib\\site-packages (from plotly) (23.2)\n",
      "Note: you may need to restart the kernel to use updated packages.\n"
     ]
    },
    {
     "name": "stderr",
     "output_type": "stream",
     "text": [
      "\n",
      "[notice] A new release of pip is available: 24.2 -> 24.3.1\n",
      "[notice] To update, run: python.exe -m pip install --upgrade pip\n"
     ]
    },
    {
     "name": "stdout",
     "output_type": "stream",
     "text": [
      "Note: you may need to restart the kernel to use updated packages.\n"
     ]
    },
    {
     "name": "stderr",
     "output_type": "stream",
     "text": [
      "\n",
      "[notice] A new release of pip is available: 24.2 -> 24.3.1\n",
      "[notice] To update, run: python.exe -m pip install --upgrade pip\n"
     ]
    }
   ],
   "source": [
    "%pip install plotly\n",
    "%pip install nbformat>=4.2.0"
   ]
  },
  {
   "cell_type": "code",
   "execution_count": 32,
   "metadata": {},
   "outputs": [
    {
     "data": {
      "application/vnd.plotly.v1+json": {
       "config": {
        "plotlyServerURL": "https://plot.ly"
       },
       "data": [
        {
         "hovertemplate": "color=fingers<br>0=%{x}<br>1=%{y}<br>2=%{z}<extra></extra>",
         "legendgroup": "fingers",
         "marker": {
          "color": "#636efa",
          "symbol": "circle"
         },
         "mode": "markers",
         "name": "fingers",
         "scene": "scene",
         "showlegend": true,
         "type": "scatter3d",
         "x": [
          -0.6226112246513367
         ],
         "y": [
          0.17275512218475342
         ],
         "z": [
          0.021171092987060547
         ]
        },
        {
         "hovertemplate": "color=think<br>0=%{x}<br>1=%{y}<br>2=%{z}<extra></extra>",
         "legendgroup": "think",
         "marker": {
          "color": "#EF553B",
          "symbol": "circle"
         },
         "mode": "markers",
         "name": "think",
         "scene": "scene",
         "showlegend": true,
         "type": "scatter3d",
         "x": [
          0.7214640974998474
         ],
         "y": [
          0.16144543886184692
         ],
         "z": [
          -0.016583114862442017
         ]
        },
        {
         "hovertemplate": "color=door<br>0=%{x}<br>1=%{y}<br>2=%{z}<extra></extra>",
         "legendgroup": "door",
         "marker": {
          "color": "#00cc96",
          "symbol": "circle"
         },
         "mode": "markers",
         "name": "door",
         "scene": "scene",
         "showlegend": true,
         "type": "scatter3d",
         "x": [
          -0.4575498700141907
         ],
         "y": [
          0.10037010908126831
         ],
         "z": [
          -0.09009742736816406
         ]
        },
        {
         "hovertemplate": "color=nothing<br>0=%{x}<br>1=%{y}<br>2=%{z}<extra></extra>",
         "legendgroup": "nothing",
         "marker": {
          "color": "#ab63fa",
          "symbol": "circle"
         },
         "mode": "markers",
         "name": "nothing",
         "scene": "scene",
         "showlegend": true,
         "type": "scatter3d",
         "x": [
          0.523995578289032
         ],
         "y": [
          0.12195724248886108
         ],
         "z": [
          -0.20277824997901917
         ]
        },
        {
         "hovertemplate": "color=much<br>0=%{x}<br>1=%{y}<br>2=%{z}<extra></extra>",
         "legendgroup": "much",
         "marker": {
          "color": "#FFA15A",
          "symbol": "circle"
         },
         "mode": "markers",
         "name": "much",
         "scene": "scene",
         "showlegend": true,
         "type": "scatter3d",
         "x": [
          0.5839856863021851
         ],
         "y": [
          0.18588095903396606
         ],
         "z": [
          -0.2535349428653717
         ]
        },
        {
         "hovertemplate": "color=ever<br>0=%{x}<br>1=%{y}<br>2=%{z}<extra></extra>",
         "legendgroup": "ever",
         "marker": {
          "color": "#19d3f3",
          "symbol": "circle"
         },
         "mode": "markers",
         "name": "ever",
         "scene": "scene",
         "showlegend": true,
         "type": "scatter3d",
         "x": [
          0.5409545302391052
         ],
         "y": [
          0.14714312553405762
         ],
         "z": [
          -0.23551949858665466
         ]
        },
        {
         "hovertemplate": "color=half<br>0=%{x}<br>1=%{y}<br>2=%{z}<extra></extra>",
         "legendgroup": "half",
         "marker": {
          "color": "#FF6692",
          "symbol": "circle"
         },
         "mode": "markers",
         "name": "half",
         "scene": "scene",
         "showlegend": true,
         "type": "scatter3d",
         "x": [
          -0.14076493680477142
         ],
         "y": [
          -0.06587886810302734
         ],
         "z": [
          -0.07578229904174805
         ]
        },
        {
         "hovertemplate": "color=small<br>0=%{x}<br>1=%{y}<br>2=%{z}<extra></extra>",
         "legendgroup": "small",
         "marker": {
          "color": "#B6E880",
          "symbol": "circle"
         },
         "mode": "markers",
         "name": "small",
         "scene": "scene",
         "showlegend": true,
         "type": "scatter3d",
         "x": [
          -0.13675886392593384
         ],
         "y": [
          -0.08403915166854858
         ],
         "z": [
          -0.019972175359725952
         ]
        },
        {
         "hovertemplate": "color=grey<br>0=%{x}<br>1=%{y}<br>2=%{z}<extra></extra>",
         "legendgroup": "grey",
         "marker": {
          "color": "#FF97FF",
          "symbol": "circle"
         },
         "mode": "markers",
         "name": "grey",
         "scene": "scene",
         "showlegend": true,
         "type": "scatter3d",
         "x": [
          -0.6421584486961365
         ],
         "y": [
          0.16684097051620483
         ],
         "z": [
          0.06661532819271088
         ]
        },
        {
         "hovertemplate": "color=mother<br>0=%{x}<br>1=%{y}<br>2=%{z}<extra></extra>",
         "legendgroup": "mother",
         "marker": {
          "color": "#FECB52",
          "symbol": "circle"
         },
         "mode": "markers",
         "name": "mother",
         "scene": "scene",
         "showlegend": true,
         "type": "scatter3d",
         "x": [
          0.5344905257225037
         ],
         "y": [
          0.005783677101135254
         ],
         "z": [
          0.028349339962005615
         ]
        },
        {
         "hovertemplate": "color=while<br>0=%{x}<br>1=%{y}<br>2=%{z}<extra></extra>",
         "legendgroup": "while",
         "marker": {
          "color": "#636efa",
          "symbol": "circle"
         },
         "mode": "markers",
         "name": "while",
         "scene": "scene",
         "showlegend": true,
         "type": "scatter3d",
         "x": [
          -0.31077033281326294
         ],
         "y": [
          -0.05830192565917969
         ],
         "z": [
          0.030485928058624268
         ]
        },
        {
         "hovertemplate": "color=between<br>0=%{x}<br>1=%{y}<br>2=%{z}<extra></extra>",
         "legendgroup": "between",
         "marker": {
          "color": "#EF553B",
          "symbol": "circle"
         },
         "mode": "markers",
         "name": "between",
         "scene": "scene",
         "showlegend": true,
         "type": "scatter3d",
         "x": [
          -0.44535499811172485
         ],
         "y": [
          0.023465871810913086
         ],
         "z": [
          0.040470391511917114
         ]
        },
        {
         "hovertemplate": "color=eddard<br>0=%{x}<br>1=%{y}<br>2=%{z}<extra></extra>",
         "legendgroup": "eddard",
         "marker": {
          "color": "#00cc96",
          "symbol": "circle"
         },
         "mode": "markers",
         "name": "eddard",
         "scene": "scene",
         "showlegend": true,
         "type": "scatter3d",
         "x": [
          0.4761629104614258
         ],
         "y": [
          0.02876061201095581
         ],
         "z": [
          0.25977516174316406
         ]
        },
        {
         "hovertemplate": "color=gone<br>0=%{x}<br>1=%{y}<br>2=%{z}<extra></extra>",
         "legendgroup": "gone",
         "marker": {
          "color": "#ab63fa",
          "symbol": "circle"
         },
         "mode": "markers",
         "name": "gone",
         "scene": "scene",
         "showlegend": true,
         "type": "scatter3d",
         "x": [
          0.09234309941530228
         ],
         "y": [
          0.07213801145553589
         ],
         "z": [
          -0.2749614417552948
         ]
        },
        {
         "hovertemplate": "color=stood<br>0=%{x}<br>1=%{y}<br>2=%{z}<extra></extra>",
         "legendgroup": "stood",
         "marker": {
          "color": "#FFA15A",
          "symbol": "circle"
         },
         "mode": "markers",
         "name": "stood",
         "scene": "scene",
         "showlegend": true,
         "type": "scatter3d",
         "x": [
          -0.4580840468406677
         ],
         "y": [
          0.042410194873809814
         ],
         "z": [
          0.010486483573913574
         ]
        },
        {
         "hovertemplate": "color=felt<br>0=%{x}<br>1=%{y}<br>2=%{z}<extra></extra>",
         "legendgroup": "felt",
         "marker": {
          "color": "#19d3f3",
          "symbol": "circle"
         },
         "mode": "markers",
         "name": "felt",
         "scene": "scene",
         "showlegend": true,
         "type": "scatter3d",
         "x": [
          -0.16186457872390747
         ],
         "y": [
          0.22473585605621338
         ],
         "z": [
          -0.4382456839084625
         ]
        },
        {
         "hovertemplate": "color=girl<br>0=%{x}<br>1=%{y}<br>2=%{z}<extra></extra>",
         "legendgroup": "girl",
         "marker": {
          "color": "#FF6692",
          "symbol": "circle"
         },
         "mode": "markers",
         "name": "girl",
         "scene": "scene",
         "showlegend": true,
         "type": "scatter3d",
         "x": [
          0.3288338780403137
         ],
         "y": [
          -0.036169230937957764
         ],
         "z": [
          -0.12047803401947021
         ]
        },
        {
         "hovertemplate": "color=words<br>0=%{x}<br>1=%{y}<br>2=%{z}<extra></extra>",
         "legendgroup": "words",
         "marker": {
          "color": "#B6E880",
          "symbol": "circle"
         },
         "mode": "markers",
         "name": "words",
         "scene": "scene",
         "showlegend": true,
         "type": "scatter3d",
         "x": [
          0.36311471462249756
         ],
         "y": [
          0.06979840993881226
         ],
         "z": [
          -0.27205953001976013
         ]
        },
        {
         "hovertemplate": "color=under<br>0=%{x}<br>1=%{y}<br>2=%{z}<extra></extra>",
         "legendgroup": "under",
         "marker": {
          "color": "#FF97FF",
          "symbol": "circle"
         },
         "mode": "markers",
         "name": "under",
         "scene": "scene",
         "showlegend": true,
         "type": "scatter3d",
         "x": [
          -0.5261359214782715
         ],
         "y": [
          0.07709771394729614
         ],
         "z": [
          0.031120330095291138
         ]
        },
        {
         "hovertemplate": "color=gold<br>0=%{x}<br>1=%{y}<br>2=%{z}<extra></extra>",
         "legendgroup": "gold",
         "marker": {
          "color": "#FECB52",
          "symbol": "circle"
         },
         "mode": "markers",
         "name": "gold",
         "scene": "scene",
         "showlegend": true,
         "type": "scatter3d",
         "x": [
          -0.4031376242637634
         ],
         "y": [
          -0.044687628746032715
         ],
         "z": [
          0.19672396779060364
         ]
        },
        {
         "hovertemplate": "color=dark<br>0=%{x}<br>1=%{y}<br>2=%{z}<extra></extra>",
         "legendgroup": "dark",
         "marker": {
          "color": "#636efa",
          "symbol": "circle"
         },
         "mode": "markers",
         "name": "dark",
         "scene": "scene",
         "showlegend": true,
         "type": "scatter3d",
         "x": [
          -0.4832304120063782
         ],
         "y": [
          0.08767235279083252
         ],
         "z": [
          -0.026536524295806885
         ]
        },
        {
         "hovertemplate": "color=put<br>0=%{x}<br>1=%{y}<br>2=%{z}<extra></extra>",
         "legendgroup": "put",
         "marker": {
          "color": "#EF553B",
          "symbol": "circle"
         },
         "mode": "markers",
         "name": "put",
         "scene": "scene",
         "showlegend": true,
         "type": "scatter3d",
         "x": [
          -0.098410964012146
         ],
         "y": [
          -0.038188397884368896
         ],
         "z": [
          -0.08967885375022888
         ]
        },
        {
         "hovertemplate": "color=hear<br>0=%{x}<br>1=%{y}<br>2=%{z}<extra></extra>",
         "legendgroup": "hear",
         "marker": {
          "color": "#00cc96",
          "symbol": "circle"
         },
         "mode": "markers",
         "name": "hear",
         "scene": "scene",
         "showlegend": true,
         "type": "scatter3d",
         "x": [
          0.5347692966461182
         ],
         "y": [
          0.12399274110794067
         ],
         "z": [
          -0.18920066952705383
         ]
        },
        {
         "hovertemplate": "color=steel<br>0=%{x}<br>1=%{y}<br>2=%{z}<extra></extra>",
         "legendgroup": "steel",
         "marker": {
          "color": "#ab63fa",
          "symbol": "circle"
         },
         "mode": "markers",
         "name": "steel",
         "scene": "scene",
         "showlegend": true,
         "type": "scatter3d",
         "x": [
          -0.451968789100647
         ],
         "y": [
          -0.007870078086853027
         ],
         "z": [
          0.14745622873306274
         ]
        },
        {
         "hovertemplate": "color=sister<br>0=%{x}<br>1=%{y}<br>2=%{z}<extra></extra>",
         "legendgroup": "sister",
         "marker": {
          "color": "#FFA15A",
          "symbol": "circle"
         },
         "mode": "markers",
         "name": "sister",
         "scene": "scene",
         "showlegend": true,
         "type": "scatter3d",
         "x": [
          0.5700555443763733
         ],
         "y": [
          0.034046173095703125
         ],
         "z": [
          0.00920054316520691
         ]
        },
        {
         "hovertemplate": "color=every<br>0=%{x}<br>1=%{y}<br>2=%{z}<extra></extra>",
         "legendgroup": "every",
         "marker": {
          "color": "#19d3f3",
          "symbol": "circle"
         },
         "mode": "markers",
         "name": "every",
         "scene": "scene",
         "showlegend": true,
         "type": "scatter3d",
         "x": [
          0.056566547602415085
         ],
         "y": [
          -0.1427457332611084
         ],
         "z": [
          0.09329350292682648
         ]
        },
        {
         "hovertemplate": "color=woman<br>0=%{x}<br>1=%{y}<br>2=%{z}<extra></extra>",
         "legendgroup": "woman",
         "marker": {
          "color": "#FF6692",
          "symbol": "circle"
         },
         "mode": "markers",
         "name": "woman",
         "scene": "scene",
         "showlegend": true,
         "type": "scatter3d",
         "x": [
          0.13040466606616974
         ],
         "y": [
          -0.12205684185028076
         ],
         "z": [
          0.0025704801082611084
         ]
        },
        {
         "hovertemplate": "color=snow<br>0=%{x}<br>1=%{y}<br>2=%{z}<extra></extra>",
         "legendgroup": "snow",
         "marker": {
          "color": "#B6E880",
          "symbol": "circle"
         },
         "mode": "markers",
         "name": "snow",
         "scene": "scene",
         "showlegend": true,
         "type": "scatter3d",
         "x": [
          -0.07971124351024628
         ],
         "y": [
          -0.07495278120040894
         ],
         "z": [
          -0.08406704664230347
         ]
        },
        {
         "hovertemplate": "color=cold<br>0=%{x}<br>1=%{y}<br>2=%{z}<extra></extra>",
         "legendgroup": "cold",
         "marker": {
          "color": "#FF97FF",
          "symbol": "circle"
         },
         "mode": "markers",
         "name": "cold",
         "scene": "scene",
         "showlegend": true,
         "type": "scatter3d",
         "x": [
          -0.3708459138870239
         ],
         "y": [
          0.033979833126068115
         ],
         "z": [
          -0.060752809047698975
         ]
        },
        {
         "hovertemplate": "color=beneath<br>0=%{x}<br>1=%{y}<br>2=%{z}<extra></extra>",
         "legendgroup": "beneath",
         "marker": {
          "color": "#FECB52",
          "symbol": "circle"
         },
         "mode": "markers",
         "name": "beneath",
         "scene": "scene",
         "showlegend": true,
         "type": "scatter3d",
         "x": [
          -0.5760111212730408
         ],
         "y": [
          0.10733258724212646
         ],
         "z": [
          0.07277905941009521
         ]
        },
        {
         "hovertemplate": "color=right<br>0=%{x}<br>1=%{y}<br>2=%{z}<extra></extra>",
         "legendgroup": "right",
         "marker": {
          "color": "#636efa",
          "symbol": "circle"
         },
         "mode": "markers",
         "name": "right",
         "scene": "scene",
         "showlegend": true,
         "type": "scatter3d",
         "x": [
          -0.0946119874715805
         ],
         "y": [
          -0.01435863971710205
         ],
         "z": [
          -0.184613436460495
         ]
        },
        {
         "hovertemplate": "color=done<br>0=%{x}<br>1=%{y}<br>2=%{z}<extra></extra>",
         "legendgroup": "done",
         "marker": {
          "color": "#EF553B",
          "symbol": "circle"
         },
         "mode": "markers",
         "name": "done",
         "scene": "scene",
         "showlegend": true,
         "type": "scatter3d",
         "x": [
          0.6519412398338318
         ],
         "y": [
          0.19230949878692627
         ],
         "z": [
          -0.16134196519851685
         ]
        },
        {
         "hovertemplate": "color=watch<br>0=%{x}<br>1=%{y}<br>2=%{z}<extra></extra>",
         "legendgroup": "watch",
         "marker": {
          "color": "#00cc96",
          "symbol": "circle"
         },
         "mode": "markers",
         "name": "watch",
         "scene": "scene",
         "showlegend": true,
         "type": "scatter3d",
         "x": [
          0.2142568975687027
         ],
         "y": [
          -0.08085411787033081
         ],
         "z": [
          0.32520097494125366
         ]
        },
        {
         "hovertemplate": "color=re<br>0=%{x}<br>1=%{y}<br>2=%{z}<extra></extra>",
         "legendgroup": "re",
         "marker": {
          "color": "#ab63fa",
          "symbol": "circle"
         },
         "mode": "markers",
         "name": "re",
         "scene": "scene",
         "showlegend": true,
         "type": "scatter3d",
         "x": [
          0.6578730940818787
         ],
         "y": [
          0.09065288305282593
         ],
         "z": [
          0.13059857487678528
         ]
        },
        {
         "hovertemplate": "color=just<br>0=%{x}<br>1=%{y}<br>2=%{z}<extra></extra>",
         "legendgroup": "just",
         "marker": {
          "color": "#FFA15A",
          "symbol": "circle"
         },
         "mode": "markers",
         "name": "just",
         "scene": "scene",
         "showlegend": true,
         "type": "scatter3d",
         "x": [
          0.4054797291755676
         ],
         "y": [
          0.045622169971466064
         ],
         "z": [
          -0.18718010187149048
         ]
        },
        {
         "hovertemplate": "color=children<br>0=%{x}<br>1=%{y}<br>2=%{z}<extra></extra>",
         "legendgroup": "children",
         "marker": {
          "color": "#19d3f3",
          "symbol": "circle"
         },
         "mode": "markers",
         "name": "children",
         "scene": "scene",
         "showlegend": true,
         "type": "scatter3d",
         "x": [
          0.23947416245937347
         ],
         "y": [
          -0.11773097515106201
         ],
         "z": [
          0.20721018314361572
         ]
        },
        {
         "hovertemplate": "color=place<br>0=%{x}<br>1=%{y}<br>2=%{z}<extra></extra>",
         "legendgroup": "place",
         "marker": {
          "color": "#FF6692",
          "symbol": "circle"
         },
         "mode": "markers",
         "name": "place",
         "scene": "scene",
         "showlegend": true,
         "type": "scatter3d",
         "x": [
          0.39229071140289307
         ],
         "y": [
          -0.03696972131729126
         ],
         "z": [
          0.050230562686920166
         ]
        },
        {
         "hovertemplate": "color=life<br>0=%{x}<br>1=%{y}<br>2=%{z}<extra></extra>",
         "legendgroup": "life",
         "marker": {
          "color": "#B6E880",
          "symbol": "circle"
         },
         "mode": "markers",
         "name": "life",
         "scene": "scene",
         "showlegend": true,
         "type": "scatter3d",
         "x": [
          0.402374804019928
         ],
         "y": [
          -0.06953102350234985
         ],
         "z": [
          0.07193878293037415
         ]
        },
        {
         "hovertemplate": "color=jorah<br>0=%{x}<br>1=%{y}<br>2=%{z}<extra></extra>",
         "legendgroup": "jorah",
         "marker": {
          "color": "#FF97FF",
          "symbol": "circle"
         },
         "mode": "markers",
         "name": "jorah",
         "scene": "scene",
         "showlegend": true,
         "type": "scatter3d",
         "x": [
          0.12289492785930634
         ],
         "y": [
          0.12922418117523193
         ],
         "z": [
          0.00961962342262268
         ]
        },
        {
         "hovertemplate": "color=moment<br>0=%{x}<br>1=%{y}<br>2=%{z}<extra></extra>",
         "legendgroup": "moment",
         "marker": {
          "color": "#FECB52",
          "symbol": "circle"
         },
         "mode": "markers",
         "name": "moment",
         "scene": "scene",
         "showlegend": true,
         "type": "scatter3d",
         "x": [
          0.09975692629814148
         ],
         "y": [
          0.11085277795791626
         ],
         "z": [
          -0.3793136775493622
         ]
        },
        {
         "hovertemplate": "color=seen<br>0=%{x}<br>1=%{y}<br>2=%{z}<extra></extra>",
         "legendgroup": "seen",
         "marker": {
          "color": "#636efa",
          "symbol": "circle"
         },
         "mode": "markers",
         "name": "seen",
         "scene": "scene",
         "showlegend": true,
         "type": "scatter3d",
         "x": [
          0.428353488445282
         ],
         "y": [
          0.22594797611236572
         ],
         "z": [
          -0.31741824746131897
         ]
        },
        {
         "hovertemplate": "color=herself<br>0=%{x}<br>1=%{y}<br>2=%{z}<extra></extra>",
         "legendgroup": "herself",
         "marker": {
          "color": "#EF553B",
          "symbol": "circle"
         },
         "mode": "markers",
         "name": "herself",
         "scene": "scene",
         "showlegend": true,
         "type": "scatter3d",
         "x": [
          0.08591632544994354
         ],
         "y": [
          0.15225601196289062
         ],
         "z": [
          -0.4230906069278717
         ]
        },
        {
         "hovertemplate": "color=need<br>0=%{x}<br>1=%{y}<br>2=%{z}<extra></extra>",
         "legendgroup": "need",
         "marker": {
          "color": "#00cc96",
          "symbol": "circle"
         },
         "mode": "markers",
         "name": "need",
         "scene": "scene",
         "showlegend": true,
         "type": "scatter3d",
         "x": [
          0.7099409103393555
         ],
         "y": [
          0.09112006425857544
         ],
         "z": [
          0.1951756626367569
         ]
        },
        {
         "hovertemplate": "color=fire<br>0=%{x}<br>1=%{y}<br>2=%{z}<extra></extra>",
         "legendgroup": "fire",
         "marker": {
          "color": "#ab63fa",
          "symbol": "circle"
         },
         "mode": "markers",
         "name": "fire",
         "scene": "scene",
         "showlegend": true,
         "type": "scatter3d",
         "x": [
          -0.34550732374191284
         ],
         "y": [
          -0.007491648197174072
         ],
         "z": [
          0.0038654208183288574
         ]
        },
        {
         "hovertemplate": "color=find<br>0=%{x}<br>1=%{y}<br>2=%{z}<extra></extra>",
         "legendgroup": "find",
         "marker": {
          "color": "#FFA15A",
          "symbol": "circle"
         },
         "mode": "markers",
         "name": "find",
         "scene": "scene",
         "showlegend": true,
         "type": "scatter3d",
         "x": [
          0.5998992323875427
         ],
         "y": [
          0.05500519275665283
         ],
         "z": [
          0.01096200942993164
         ]
        },
        {
         "hovertemplate": "color=any<br>0=%{x}<br>1=%{y}<br>2=%{z}<extra></extra>",
         "legendgroup": "any",
         "marker": {
          "color": "#19d3f3",
          "symbol": "circle"
         },
         "mode": "markers",
         "name": "any",
         "scene": "scene",
         "showlegend": true,
         "type": "scatter3d",
         "x": [
          0.5875833630561829
         ],
         "y": [
          0.03758549690246582
         ],
         "z": [
          0.007659703493118286
         ]
        },
        {
         "hovertemplate": "color=fear<br>0=%{x}<br>1=%{y}<br>2=%{z}<extra></extra>",
         "legendgroup": "fear",
         "marker": {
          "color": "#FF6692",
          "symbol": "circle"
         },
         "mode": "markers",
         "name": "fear",
         "scene": "scene",
         "showlegend": true,
         "type": "scatter3d",
         "x": [
          0.535727322101593
         ],
         "y": [
          0.03688114881515503
         ],
         "z": [
          -0.09422862529754639
         ]
        },
        {
         "hovertemplate": "color=give<br>0=%{x}<br>1=%{y}<br>2=%{z}<extra></extra>",
         "legendgroup": "give",
         "marker": {
          "color": "#B6E880",
          "symbol": "circle"
         },
         "mode": "markers",
         "name": "give",
         "scene": "scene",
         "showlegend": true,
         "type": "scatter3d",
         "x": [
          0.6559354066848755
         ],
         "y": [
          0.05441862344741821
         ],
         "z": [
          0.15270563960075378
         ]
        },
        {
         "hovertemplate": "color=mormont<br>0=%{x}<br>1=%{y}<br>2=%{z}<extra></extra>",
         "legendgroup": "mormont",
         "marker": {
          "color": "#FF97FF",
          "symbol": "circle"
         },
         "mode": "markers",
         "name": "mormont",
         "scene": "scene",
         "showlegend": true,
         "type": "scatter3d",
         "x": [
          0.036993227899074554
         ],
         "y": [
          -0.1267145872116089
         ],
         "z": [
          0.06663629412651062
         ]
        },
        {
         "hovertemplate": "color=began<br>0=%{x}<br>1=%{y}<br>2=%{z}<extra></extra>",
         "legendgroup": "began",
         "marker": {
          "color": "#FECB52",
          "symbol": "circle"
         },
         "mode": "markers",
         "name": "began",
         "scene": "scene",
         "showlegend": true,
         "type": "scatter3d",
         "x": [
          -0.19380511343479156
         ],
         "y": [
          -0.04172682762145996
         ],
         "z": [
          -0.0855521559715271
         ]
        },
        {
         "hovertemplate": "color=littlefinger<br>0=%{x}<br>1=%{y}<br>2=%{z}<extra></extra>",
         "legendgroup": "littlefinger",
         "marker": {
          "color": "#636efa",
          "symbol": "circle"
         },
         "mode": "markers",
         "name": "littlefinger",
         "scene": "scene",
         "showlegend": true,
         "type": "scatter3d",
         "x": [
          0.07967275381088257
         ],
         "y": [
          -0.09594684839248657
         ],
         "z": [
          -0.07763373851776123
         ]
        },
        {
         "hovertemplate": "color=child<br>0=%{x}<br>1=%{y}<br>2=%{z}<extra></extra>",
         "legendgroup": "child",
         "marker": {
          "color": "#EF553B",
          "symbol": "circle"
         },
         "mode": "markers",
         "name": "child",
         "scene": "scene",
         "showlegend": true,
         "type": "scatter3d",
         "x": [
          0.5233519673347473
         ],
         "y": [
          0.0006379485130310059
         ],
         "z": [
          -0.03946810960769653
         ]
        },
        {
         "hovertemplate": "color=arms<br>0=%{x}<br>1=%{y}<br>2=%{z}<extra></extra>",
         "legendgroup": "arms",
         "marker": {
          "color": "#00cc96",
          "symbol": "circle"
         },
         "mode": "markers",
         "name": "arms",
         "scene": "scene",
         "showlegend": true,
         "type": "scatter3d",
         "x": [
          -0.3993120789527893
         ],
         "y": [
          0.031315386295318604
         ],
         "z": [
          -0.06347182393074036
         ]
        },
        {
         "hovertemplate": "color=side<br>0=%{x}<br>1=%{y}<br>2=%{z}<extra></extra>",
         "legendgroup": "side",
         "marker": {
          "color": "#ab63fa",
          "symbol": "circle"
         },
         "mode": "markers",
         "name": "side",
         "scene": "scene",
         "showlegend": true,
         "type": "scatter3d",
         "x": [
          -0.5294530391693115
         ],
         "y": [
          0.07535296678543091
         ],
         "z": [
          0.06947547197341919
         ]
        },
        {
         "hovertemplate": "color=silver<br>0=%{x}<br>1=%{y}<br>2=%{z}<extra></extra>",
         "legendgroup": "silver",
         "marker": {
          "color": "#FFA15A",
          "symbol": "circle"
         },
         "mode": "markers",
         "name": "silver",
         "scene": "scene",
         "showlegend": true,
         "type": "scatter3d",
         "x": [
          -0.47388166189193726
         ],
         "y": [
          0.03554731607437134
         ],
         "z": [
          0.017419815063476562
         ]
        },
        {
         "hovertemplate": "color=tywin<br>0=%{x}<br>1=%{y}<br>2=%{z}<extra></extra>",
         "legendgroup": "tywin",
         "marker": {
          "color": "#19d3f3",
          "symbol": "circle"
         },
         "mode": "markers",
         "name": "tywin",
         "scene": "scene",
         "showlegend": true,
         "type": "scatter3d",
         "x": [
          0.2918037176132202
         ],
         "y": [
          -0.0762438178062439
         ],
         "z": [
          0.32755735516548157
         ]
        },
        {
         "hovertemplate": "color=these<br>0=%{x}<br>1=%{y}<br>2=%{z}<extra></extra>",
         "legendgroup": "these",
         "marker": {
          "color": "#FF6692",
          "symbol": "circle"
         },
         "mode": "markers",
         "name": "these",
         "scene": "scene",
         "showlegend": true,
         "type": "scatter3d",
         "x": [
          0.5170658230781555
         ],
         "y": [
          -0.03836721181869507
         ],
         "z": [
          0.21516156196594238
         ]
        },
        {
         "hovertemplate": "color=shall<br>0=%{x}<br>1=%{y}<br>2=%{z}<extra></extra>",
         "legendgroup": "shall",
         "marker": {
          "color": "#B6E880",
          "symbol": "circle"
         },
         "mode": "markers",
         "name": "shall",
         "scene": "scene",
         "showlegend": true,
         "type": "scatter3d",
         "x": [
          0.6704471111297607
         ],
         "y": [
          0.060542941093444824
         ],
         "z": [
          0.21439120173454285
         ]
        },
        {
         "hovertemplate": "color=dothraki<br>0=%{x}<br>1=%{y}<br>2=%{z}<extra></extra>",
         "legendgroup": "dothraki",
         "marker": {
          "color": "#FF97FF",
          "symbol": "circle"
         },
         "mode": "markers",
         "name": "dothraki",
         "scene": "scene",
         "showlegend": true,
         "type": "scatter3d",
         "x": [
          -0.013560354709625244
         ],
         "y": [
          -0.0969926118850708
         ],
         "z": [
          0.008845537900924683
         ]
        },
        {
         "hovertemplate": "color=end<br>0=%{x}<br>1=%{y}<br>2=%{z}<extra></extra>",
         "legendgroup": "end",
         "marker": {
          "color": "#FECB52",
          "symbol": "circle"
         },
         "mode": "markers",
         "name": "end",
         "scene": "scene",
         "showlegend": true,
         "type": "scatter3d",
         "x": [
          -0.012984536588191986
         ],
         "y": [
          -0.07151192426681519
         ],
         "z": [
          0.004139602184295654
         ]
        },
        {
         "hovertemplate": "color=name<br>0=%{x}<br>1=%{y}<br>2=%{z}<extra></extra>",
         "legendgroup": "name",
         "marker": {
          "color": "#636efa",
          "symbol": "circle"
         },
         "mode": "markers",
         "name": "name",
         "scene": "scene",
         "showlegend": true,
         "type": "scatter3d",
         "x": [
          0.518986701965332
         ],
         "y": [
          -0.018626391887664795
         ],
         "z": [
          0.12909725308418274
         ]
        },
        {
         "hovertemplate": "color=perhaps<br>0=%{x}<br>1=%{y}<br>2=%{z}<extra></extra>",
         "legendgroup": "perhaps",
         "marker": {
          "color": "#EF553B",
          "symbol": "circle"
         },
         "mode": "markers",
         "name": "perhaps",
         "scene": "scene",
         "showlegend": true,
         "type": "scatter3d",
         "x": [
          0.5765342116355896
         ],
         "y": [
          0.044664740562438965
         ],
         "z": [
          -0.05183491110801697
         ]
        },
        {
         "hovertemplate": "color=those<br>0=%{x}<br>1=%{y}<br>2=%{z}<extra></extra>",
         "legendgroup": "those",
         "marker": {
          "color": "#00cc96",
          "symbol": "circle"
         },
         "mode": "markers",
         "name": "those",
         "scene": "scene",
         "showlegend": true,
         "type": "scatter3d",
         "x": [
          0.11632607877254486
         ],
         "y": [
          -0.10099011659622192
         ],
         "z": [
          0.022256940603256226
         ]
        },
        {
         "hovertemplate": "color=leave<br>0=%{x}<br>1=%{y}<br>2=%{z}<extra></extra>",
         "legendgroup": "leave",
         "marker": {
          "color": "#ab63fa",
          "symbol": "circle"
         },
         "mode": "markers",
         "name": "leave",
         "scene": "scene",
         "showlegend": true,
         "type": "scatter3d",
         "x": [
          0.5015071034431458
         ],
         "y": [
          -0.00904834270477295
         ],
         "z": [
          0.04905584454536438
         ]
        },
        {
         "hovertemplate": "color=always<br>0=%{x}<br>1=%{y}<br>2=%{z}<extra></extra>",
         "legendgroup": "always",
         "marker": {
          "color": "#FFA15A",
          "symbol": "circle"
         },
         "mode": "markers",
         "name": "always",
         "scene": "scene",
         "showlegend": true,
         "type": "scatter3d",
         "x": [
          0.41033416986465454
         ],
         "y": [
          0.0164412260055542
         ],
         "z": [
          -0.15760263800621033
         ]
        },
        {
         "hovertemplate": "color=horses<br>0=%{x}<br>1=%{y}<br>2=%{z}<extra></extra>",
         "legendgroup": "horses",
         "marker": {
          "color": "#19d3f3",
          "symbol": "circle"
         },
         "mode": "markers",
         "name": "horses",
         "scene": "scene",
         "showlegend": true,
         "type": "scatter3d",
         "x": [
          -0.23902828991413116
         ],
         "y": [
          -0.058643460273742676
         ],
         "z": [
          0.11969038844108582
         ]
        },
        {
         "hovertemplate": "color=jaime<br>0=%{x}<br>1=%{y}<br>2=%{z}<extra></extra>",
         "legendgroup": "jaime",
         "marker": {
          "color": "#FF6692",
          "symbol": "circle"
         },
         "mode": "markers",
         "name": "jaime",
         "scene": "scene",
         "showlegend": true,
         "type": "scatter3d",
         "x": [
          0.3075377941131592
         ],
         "y": [
          -0.12936580181121826
         ],
         "z": [
          0.22126197814941406
         ]
        },
        {
         "hovertemplate": "color=yes<br>0=%{x}<br>1=%{y}<br>2=%{z}<extra></extra>",
         "legendgroup": "yes",
         "marker": {
          "color": "#B6E880",
          "symbol": "circle"
         },
         "mode": "markers",
         "name": "yes",
         "scene": "scene",
         "showlegend": true,
         "type": "scatter3d",
         "x": [
          0.4814143180847168
         ],
         "y": [
          -0.01709061861038208
         ],
         "z": [
          -0.042433470487594604
         ]
        },
        {
         "hovertemplate": "color=many<br>0=%{x}<br>1=%{y}<br>2=%{z}<extra></extra>",
         "legendgroup": "many",
         "marker": {
          "color": "#FF97FF",
          "symbol": "circle"
         },
         "mode": "markers",
         "name": "many",
         "scene": "scene",
         "showlegend": true,
         "type": "scatter3d",
         "x": [
          0.4375652074813843
         ],
         "y": [
          -0.050378501415252686
         ],
         "z": [
          0.04528281092643738
         ]
        },
        {
         "hovertemplate": "color=others<br>0=%{x}<br>1=%{y}<br>2=%{z}<extra></extra>",
         "legendgroup": "others",
         "marker": {
          "color": "#FECB52",
          "symbol": "circle"
         },
         "mode": "markers",
         "name": "others",
         "scene": "scene",
         "showlegend": true,
         "type": "scatter3d",
         "x": [
          0.11915348470211029
         ],
         "y": [
          -0.05290067195892334
         ],
         "z": [
          -0.08815360069274902
         ]
        },
        {
         "hovertemplate": "color=castle<br>0=%{x}<br>1=%{y}<br>2=%{z}<extra></extra>",
         "legendgroup": "castle",
         "marker": {
          "color": "#636efa",
          "symbol": "circle"
         },
         "mode": "markers",
         "name": "castle",
         "scene": "scene",
         "showlegend": true,
         "type": "scatter3d",
         "x": [
          -0.19028083980083466
         ],
         "y": [
          -0.05386662483215332
         ],
         "z": [
          0.08983790874481201
         ]
        },
        {
         "hovertemplate": "color=room<br>0=%{x}<br>1=%{y}<br>2=%{z}<extra></extra>",
         "legendgroup": "room",
         "marker": {
          "color": "#EF553B",
          "symbol": "circle"
         },
         "mode": "markers",
         "name": "room",
         "scene": "scene",
         "showlegend": true,
         "type": "scatter3d",
         "x": [
          -0.36526966094970703
         ],
         "y": [
          -0.009492814540863037
         ],
         "z": [
          0.02639639377593994
         ]
        },
        {
         "hovertemplate": "color=north<br>0=%{x}<br>1=%{y}<br>2=%{z}<extra></extra>",
         "legendgroup": "north",
         "marker": {
          "color": "#00cc96",
          "symbol": "circle"
         },
         "mode": "markers",
         "name": "north",
         "scene": "scene",
         "showlegend": true,
         "type": "scatter3d",
         "x": [
          -0.1271662414073944
         ],
         "y": [
          -0.10635340213775635
         ],
         "z": [
          0.23153461515903473
         ]
        },
        {
         "hovertemplate": "color=far<br>0=%{x}<br>1=%{y}<br>2=%{z}<extra></extra>",
         "legendgroup": "far",
         "marker": {
          "color": "#ab63fa",
          "symbol": "circle"
         },
         "mode": "markers",
         "name": "far",
         "scene": "scene",
         "showlegend": true,
         "type": "scatter3d",
         "x": [
          -0.11969801783561707
         ],
         "y": [
          0.0015470385551452637
         ],
         "z": [
          -0.16576489806175232
         ]
        },
        {
         "hovertemplate": "color=smile<br>0=%{x}<br>1=%{y}<br>2=%{z}<extra></extra>",
         "legendgroup": "smile",
         "marker": {
          "color": "#FFA15A",
          "symbol": "circle"
         },
         "mode": "markers",
         "name": "smile",
         "scene": "scene",
         "showlegend": true,
         "type": "scatter3d",
         "x": [
          -0.09968677163124084
         ],
         "y": [
          0.003758549690246582
         ],
         "z": [
          -0.22834154963493347
         ]
        },
        {
         "hovertemplate": "color=lords<br>0=%{x}<br>1=%{y}<br>2=%{z}<extra></extra>",
         "legendgroup": "lords",
         "marker": {
          "color": "#19d3f3",
          "symbol": "circle"
         },
         "mode": "markers",
         "name": "lords",
         "scene": "scene",
         "showlegend": true,
         "type": "scatter3d",
         "x": [
          0.0720873773097992
         ],
         "y": [
          -0.16443604230880737
         ],
         "z": [
          0.26107802987098694
         ]
        },
        {
         "hovertemplate": "color=honor<br>0=%{x}<br>1=%{y}<br>2=%{z}<extra></extra>",
         "legendgroup": "honor",
         "marker": {
          "color": "#FF6692",
          "symbol": "circle"
         },
         "mode": "markers",
         "name": "honor",
         "scene": "scene",
         "showlegend": true,
         "type": "scatter3d",
         "x": [
          0.5340621471405029
         ],
         "y": [
          -0.049139440059661865
         ],
         "z": [
          0.20395909249782562
         ]
        },
        {
         "hovertemplate": "color=wine<br>0=%{x}<br>1=%{y}<br>2=%{z}<extra></extra>",
         "legendgroup": "wine",
         "marker": {
          "color": "#B6E880",
          "symbol": "circle"
         },
         "mode": "markers",
         "name": "wine",
         "scene": "scene",
         "showlegend": true,
         "type": "scatter3d",
         "x": [
          0.025028865784406662
         ],
         "y": [
          -0.11551845073699951
         ],
         "z": [
          -0.03359833359718323
         ]
        },
        {
         "hovertemplate": "color=cloak<br>0=%{x}<br>1=%{y}<br>2=%{z}<extra></extra>",
         "legendgroup": "cloak",
         "marker": {
          "color": "#FF97FF",
          "symbol": "circle"
         },
         "mode": "markers",
         "name": "cloak",
         "scene": "scene",
         "showlegend": true,
         "type": "scatter3d",
         "x": [
          -0.6050480008125305
         ],
         "y": [
          0.1391129493713379
         ],
         "z": [
          0.03664156794548035
         ]
        },
        {
         "hovertemplate": "color=luwin<br>0=%{x}<br>1=%{y}<br>2=%{z}<extra></extra>",
         "legendgroup": "luwin",
         "marker": {
          "color": "#FECB52",
          "symbol": "circle"
         },
         "mode": "markers",
         "name": "luwin",
         "scene": "scene",
         "showlegend": true,
         "type": "scatter3d",
         "x": [
          0.1818183958530426
         ],
         "y": [
          -0.04371386766433716
         ],
         "z": [
          -0.07921075820922852
         ]
        },
        {
         "hovertemplate": "color=arm<br>0=%{x}<br>1=%{y}<br>2=%{z}<extra></extra>",
         "legendgroup": "arm",
         "marker": {
          "color": "#636efa",
          "symbol": "circle"
         },
         "mode": "markers",
         "name": "arm",
         "scene": "scene",
         "showlegend": true,
         "type": "scatter3d",
         "x": [
          -0.5505006909370422
         ],
         "y": [
          0.14220458269119263
         ],
         "z": [
          -0.04769584536552429
         ]
        },
        {
         "hovertemplate": "color=rode<br>0=%{x}<br>1=%{y}<br>2=%{z}<extra></extra>",
         "legendgroup": "rode",
         "marker": {
          "color": "#EF553B",
          "symbol": "circle"
         },
         "mode": "markers",
         "name": "rode",
         "scene": "scene",
         "showlegend": true,
         "type": "scatter3d",
         "x": [
          -0.3794165849685669
         ],
         "y": [
          0.04648381471633911
         ],
         "z": [
          -0.09718304872512817
         ]
        },
        {
         "hovertemplate": "color=mouth<br>0=%{x}<br>1=%{y}<br>2=%{z}<extra></extra>",
         "legendgroup": "mouth",
         "marker": {
          "color": "#00cc96",
          "symbol": "circle"
         },
         "mode": "markers",
         "name": "mouth",
         "scene": "scene",
         "showlegend": true,
         "type": "scatter3d",
         "x": [
          -0.4185943603515625
         ],
         "y": [
          0.046215593814849854
         ],
         "z": [
          -0.06312793493270874
         ]
        },
        {
         "hovertemplate": "color=sent<br>0=%{x}<br>1=%{y}<br>2=%{z}<extra></extra>",
         "legendgroup": "sent",
         "marker": {
          "color": "#ab63fa",
          "symbol": "circle"
         },
         "mode": "markers",
         "name": "sent",
         "scene": "scene",
         "showlegend": true,
         "type": "scatter3d",
         "x": [
          0.3656432628631592
         ],
         "y": [
          -0.043341100215911865
         ],
         "z": [
          -0.05638614296913147
         ]
        },
        {
         "hovertemplate": "color=word<br>0=%{x}<br>1=%{y}<br>2=%{z}<extra></extra>",
         "legendgroup": "word",
         "marker": {
          "color": "#FFA15A",
          "symbol": "circle"
         },
         "mode": "markers",
         "name": "word",
         "scene": "scene",
         "showlegend": true,
         "type": "scatter3d",
         "x": [
          0.5945386290550232
         ],
         "y": [
          0.028469443321228027
         ],
         "z": [
          0.02956557273864746
         ]
        },
        {
         "hovertemplate": "color=sweet<br>0=%{x}<br>1=%{y}<br>2=%{z}<extra></extra>",
         "legendgroup": "sweet",
         "marker": {
          "color": "#19d3f3",
          "symbol": "circle"
         },
         "mode": "markers",
         "name": "sweet",
         "scene": "scene",
         "showlegend": true,
         "type": "scatter3d",
         "x": [
          0.4047016501426697
         ],
         "y": [
          -0.07630836963653564
         ],
         "z": [
          0.028606832027435303
         ]
        },
        {
         "hovertemplate": "color=another<br>0=%{x}<br>1=%{y}<br>2=%{z}<extra></extra>",
         "legendgroup": "another",
         "marker": {
          "color": "#FF6692",
          "symbol": "circle"
         },
         "mode": "markers",
         "name": "another",
         "scene": "scene",
         "showlegend": true,
         "type": "scatter3d",
         "x": [
          0.14829802513122559
         ],
         "y": [
          -0.1173633337020874
         ],
         "z": [
          -0.016547352075576782
         ]
        },
        {
         "hovertemplate": "color=seven<br>0=%{x}<br>1=%{y}<br>2=%{z}<extra></extra>",
         "legendgroup": "seven",
         "marker": {
          "color": "#B6E880",
          "symbol": "circle"
         },
         "mode": "markers",
         "name": "seven",
         "scene": "scene",
         "showlegend": true,
         "type": "scatter3d",
         "x": [
          0.02725072205066681
         ],
         "y": [
          -0.12349581718444824
         ],
         "z": [
          0.2768977880477905
         ]
        },
        {
         "hovertemplate": "color=wind<br>0=%{x}<br>1=%{y}<br>2=%{z}<extra></extra>",
         "legendgroup": "wind",
         "marker": {
          "color": "#FF97FF",
          "symbol": "circle"
         },
         "mode": "markers",
         "name": "wind",
         "scene": "scene",
         "showlegend": true,
         "type": "scatter3d",
         "x": [
          -0.5140007138252258
         ],
         "y": [
          0.0863848328590393
         ],
         "z": [
          0.01025882363319397
         ]
        },
        {
         "hovertemplate": "color=water<br>0=%{x}<br>1=%{y}<br>2=%{z}<extra></extra>",
         "legendgroup": "water",
         "marker": {
          "color": "#FECB52",
          "symbol": "circle"
         },
         "mode": "markers",
         "name": "water",
         "scene": "scene",
         "showlegend": true,
         "type": "scatter3d",
         "x": [
          -0.4017276167869568
         ],
         "y": [
          0.018206119537353516
         ],
         "z": [
          -0.02464735507965088
         ]
        },
        {
         "hovertemplate": "color=walls<br>0=%{x}<br>1=%{y}<br>2=%{z}<extra></extra>",
         "legendgroup": "walls",
         "marker": {
          "color": "#636efa",
          "symbol": "circle"
         },
         "mode": "markers",
         "name": "walls",
         "scene": "scene",
         "showlegend": true,
         "type": "scatter3d",
         "x": [
          -0.4692038297653198
         ],
         "y": [
          0.03459888696670532
         ],
         "z": [
          0.11847043037414551
         ]
        },
        {
         "hovertemplate": "color=taken<br>0=%{x}<br>1=%{y}<br>2=%{z}<extra></extra>",
         "legendgroup": "taken",
         "marker": {
          "color": "#EF553B",
          "symbol": "circle"
         },
         "mode": "markers",
         "name": "taken",
         "scene": "scene",
         "showlegend": true,
         "type": "scatter3d",
         "x": [
          0.31663990020751953
         ],
         "y": [
          -0.018274247646331787
         ],
         "z": [
          -0.1084420382976532
         ]
        },
        {
         "hovertemplate": "color=tower<br>0=%{x}<br>1=%{y}<br>2=%{z}<extra></extra>",
         "legendgroup": "tower",
         "marker": {
          "color": "#00cc96",
          "symbol": "circle"
         },
         "mode": "markers",
         "name": "tower",
         "scene": "scene",
         "showlegend": true,
         "type": "scatter3d",
         "x": [
          -0.45897406339645386
         ],
         "y": [
          0.03413534164428711
         ],
         "z": [
          0.09336800873279572
         ]
        },
        {
         "hovertemplate": "color=arryn<br>0=%{x}<br>1=%{y}<br>2=%{z}<extra></extra>",
         "legendgroup": "arryn",
         "marker": {
          "color": "#ab63fa",
          "symbol": "circle"
         },
         "mode": "markers",
         "name": "arryn",
         "scene": "scene",
         "showlegend": true,
         "type": "scatter3d",
         "x": [
          0.3260766863822937
         ],
         "y": [
          -0.06640732288360596
         ],
         "z": [
          0.015036284923553467
         ]
        },
        {
         "hovertemplate": "color=feel<br>0=%{x}<br>1=%{y}<br>2=%{z}<extra></extra>",
         "legendgroup": "feel",
         "marker": {
          "color": "#FFA15A",
          "symbol": "circle"
         },
         "mode": "markers",
         "name": "feel",
         "scene": "scene",
         "showlegend": true,
         "type": "scatter3d",
         "x": [
          0.0009637326002120972
         ],
         "y": [
          0.2839464545249939
         ],
         "z": [
          -0.4888376295566559
         ]
        },
        {
         "hovertemplate": "color=ride<br>0=%{x}<br>1=%{y}<br>2=%{z}<extra></extra>",
         "legendgroup": "ride",
         "marker": {
          "color": "#19d3f3",
          "symbol": "circle"
         },
         "mode": "markers",
         "name": "ride",
         "scene": "scene",
         "showlegend": true,
         "type": "scatter3d",
         "x": [
          0.433960497379303
         ],
         "y": [
          -0.03813296556472778
         ],
         "z": [
          0.08750776946544647
         ]
        },
        {
         "hovertemplate": "color=sat<br>0=%{x}<br>1=%{y}<br>2=%{z}<extra></extra>",
         "legendgroup": "sat",
         "marker": {
          "color": "#FF6692",
          "symbol": "circle"
         },
         "mode": "markers",
         "name": "sat",
         "scene": "scene",
         "showlegend": true,
         "type": "scatter3d",
         "x": [
          -0.36147791147232056
         ],
         "y": [
          0.008550107479095459
         ],
         "z": [
          -0.05612441897392273
         ]
        },
        {
         "hovertemplate": "color=close<br>0=%{x}<br>1=%{y}<br>2=%{z}<extra></extra>",
         "legendgroup": "close",
         "marker": {
          "color": "#B6E880",
          "symbol": "circle"
         },
         "mode": "markers",
         "name": "close",
         "scene": "scene",
         "showlegend": true,
         "type": "scatter3d",
         "x": [
          -0.22310112416744232
         ],
         "y": [
          -0.006501734256744385
         ],
         "z": [
          -0.1457608938217163
         ]
        },
        {
         "hovertemplate": "color=swords<br>0=%{x}<br>1=%{y}<br>2=%{z}<extra></extra>",
         "legendgroup": "swords",
         "marker": {
          "color": "#FF97FF",
          "symbol": "circle"
         },
         "mode": "markers",
         "name": "swords",
         "scene": "scene",
         "showlegend": true,
         "type": "scatter3d",
         "x": [
          0.027079280465841293
         ],
         "y": [
          -0.15427809953689575
         ],
         "z": [
          0.21265116333961487
         ]
        },
        {
         "hovertemplate": "color=prince<br>0=%{x}<br>1=%{y}<br>2=%{z}<extra></extra>",
         "legendgroup": "prince",
         "marker": {
          "color": "#FECB52",
          "symbol": "circle"
         },
         "mode": "markers",
         "name": "prince",
         "scene": "scene",
         "showlegend": true,
         "type": "scatter3d",
         "x": [
          0.20575718581676483
         ],
         "y": [
          -0.05602109432220459
         ],
         "z": [
          -0.14434188604354858
         ]
        }
       ],
       "layout": {
        "legend": {
         "title": {
          "text": "color"
         },
         "tracegroupgap": 0
        },
        "margin": {
         "t": 60
        },
        "scene": {
         "domain": {
          "x": [
           0,
           1
          ],
          "y": [
           0,
           1
          ]
         },
         "xaxis": {
          "title": {
           "text": "0"
          }
         },
         "yaxis": {
          "title": {
           "text": "1"
          }
         },
         "zaxis": {
          "title": {
           "text": "2"
          }
         }
        },
        "template": {
         "data": {
          "bar": [
           {
            "error_x": {
             "color": "#2a3f5f"
            },
            "error_y": {
             "color": "#2a3f5f"
            },
            "marker": {
             "line": {
              "color": "#E5ECF6",
              "width": 0.5
             },
             "pattern": {
              "fillmode": "overlay",
              "size": 10,
              "solidity": 0.2
             }
            },
            "type": "bar"
           }
          ],
          "barpolar": [
           {
            "marker": {
             "line": {
              "color": "#E5ECF6",
              "width": 0.5
             },
             "pattern": {
              "fillmode": "overlay",
              "size": 10,
              "solidity": 0.2
             }
            },
            "type": "barpolar"
           }
          ],
          "carpet": [
           {
            "aaxis": {
             "endlinecolor": "#2a3f5f",
             "gridcolor": "white",
             "linecolor": "white",
             "minorgridcolor": "white",
             "startlinecolor": "#2a3f5f"
            },
            "baxis": {
             "endlinecolor": "#2a3f5f",
             "gridcolor": "white",
             "linecolor": "white",
             "minorgridcolor": "white",
             "startlinecolor": "#2a3f5f"
            },
            "type": "carpet"
           }
          ],
          "choropleth": [
           {
            "colorbar": {
             "outlinewidth": 0,
             "ticks": ""
            },
            "type": "choropleth"
           }
          ],
          "contour": [
           {
            "colorbar": {
             "outlinewidth": 0,
             "ticks": ""
            },
            "colorscale": [
             [
              0,
              "#0d0887"
             ],
             [
              0.1111111111111111,
              "#46039f"
             ],
             [
              0.2222222222222222,
              "#7201a8"
             ],
             [
              0.3333333333333333,
              "#9c179e"
             ],
             [
              0.4444444444444444,
              "#bd3786"
             ],
             [
              0.5555555555555556,
              "#d8576b"
             ],
             [
              0.6666666666666666,
              "#ed7953"
             ],
             [
              0.7777777777777778,
              "#fb9f3a"
             ],
             [
              0.8888888888888888,
              "#fdca26"
             ],
             [
              1,
              "#f0f921"
             ]
            ],
            "type": "contour"
           }
          ],
          "contourcarpet": [
           {
            "colorbar": {
             "outlinewidth": 0,
             "ticks": ""
            },
            "type": "contourcarpet"
           }
          ],
          "heatmap": [
           {
            "colorbar": {
             "outlinewidth": 0,
             "ticks": ""
            },
            "colorscale": [
             [
              0,
              "#0d0887"
             ],
             [
              0.1111111111111111,
              "#46039f"
             ],
             [
              0.2222222222222222,
              "#7201a8"
             ],
             [
              0.3333333333333333,
              "#9c179e"
             ],
             [
              0.4444444444444444,
              "#bd3786"
             ],
             [
              0.5555555555555556,
              "#d8576b"
             ],
             [
              0.6666666666666666,
              "#ed7953"
             ],
             [
              0.7777777777777778,
              "#fb9f3a"
             ],
             [
              0.8888888888888888,
              "#fdca26"
             ],
             [
              1,
              "#f0f921"
             ]
            ],
            "type": "heatmap"
           }
          ],
          "heatmapgl": [
           {
            "colorbar": {
             "outlinewidth": 0,
             "ticks": ""
            },
            "colorscale": [
             [
              0,
              "#0d0887"
             ],
             [
              0.1111111111111111,
              "#46039f"
             ],
             [
              0.2222222222222222,
              "#7201a8"
             ],
             [
              0.3333333333333333,
              "#9c179e"
             ],
             [
              0.4444444444444444,
              "#bd3786"
             ],
             [
              0.5555555555555556,
              "#d8576b"
             ],
             [
              0.6666666666666666,
              "#ed7953"
             ],
             [
              0.7777777777777778,
              "#fb9f3a"
             ],
             [
              0.8888888888888888,
              "#fdca26"
             ],
             [
              1,
              "#f0f921"
             ]
            ],
            "type": "heatmapgl"
           }
          ],
          "histogram": [
           {
            "marker": {
             "pattern": {
              "fillmode": "overlay",
              "size": 10,
              "solidity": 0.2
             }
            },
            "type": "histogram"
           }
          ],
          "histogram2d": [
           {
            "colorbar": {
             "outlinewidth": 0,
             "ticks": ""
            },
            "colorscale": [
             [
              0,
              "#0d0887"
             ],
             [
              0.1111111111111111,
              "#46039f"
             ],
             [
              0.2222222222222222,
              "#7201a8"
             ],
             [
              0.3333333333333333,
              "#9c179e"
             ],
             [
              0.4444444444444444,
              "#bd3786"
             ],
             [
              0.5555555555555556,
              "#d8576b"
             ],
             [
              0.6666666666666666,
              "#ed7953"
             ],
             [
              0.7777777777777778,
              "#fb9f3a"
             ],
             [
              0.8888888888888888,
              "#fdca26"
             ],
             [
              1,
              "#f0f921"
             ]
            ],
            "type": "histogram2d"
           }
          ],
          "histogram2dcontour": [
           {
            "colorbar": {
             "outlinewidth": 0,
             "ticks": ""
            },
            "colorscale": [
             [
              0,
              "#0d0887"
             ],
             [
              0.1111111111111111,
              "#46039f"
             ],
             [
              0.2222222222222222,
              "#7201a8"
             ],
             [
              0.3333333333333333,
              "#9c179e"
             ],
             [
              0.4444444444444444,
              "#bd3786"
             ],
             [
              0.5555555555555556,
              "#d8576b"
             ],
             [
              0.6666666666666666,
              "#ed7953"
             ],
             [
              0.7777777777777778,
              "#fb9f3a"
             ],
             [
              0.8888888888888888,
              "#fdca26"
             ],
             [
              1,
              "#f0f921"
             ]
            ],
            "type": "histogram2dcontour"
           }
          ],
          "mesh3d": [
           {
            "colorbar": {
             "outlinewidth": 0,
             "ticks": ""
            },
            "type": "mesh3d"
           }
          ],
          "parcoords": [
           {
            "line": {
             "colorbar": {
              "outlinewidth": 0,
              "ticks": ""
             }
            },
            "type": "parcoords"
           }
          ],
          "pie": [
           {
            "automargin": true,
            "type": "pie"
           }
          ],
          "scatter": [
           {
            "fillpattern": {
             "fillmode": "overlay",
             "size": 10,
             "solidity": 0.2
            },
            "type": "scatter"
           }
          ],
          "scatter3d": [
           {
            "line": {
             "colorbar": {
              "outlinewidth": 0,
              "ticks": ""
             }
            },
            "marker": {
             "colorbar": {
              "outlinewidth": 0,
              "ticks": ""
             }
            },
            "type": "scatter3d"
           }
          ],
          "scattercarpet": [
           {
            "marker": {
             "colorbar": {
              "outlinewidth": 0,
              "ticks": ""
             }
            },
            "type": "scattercarpet"
           }
          ],
          "scattergeo": [
           {
            "marker": {
             "colorbar": {
              "outlinewidth": 0,
              "ticks": ""
             }
            },
            "type": "scattergeo"
           }
          ],
          "scattergl": [
           {
            "marker": {
             "colorbar": {
              "outlinewidth": 0,
              "ticks": ""
             }
            },
            "type": "scattergl"
           }
          ],
          "scattermapbox": [
           {
            "marker": {
             "colorbar": {
              "outlinewidth": 0,
              "ticks": ""
             }
            },
            "type": "scattermapbox"
           }
          ],
          "scatterpolar": [
           {
            "marker": {
             "colorbar": {
              "outlinewidth": 0,
              "ticks": ""
             }
            },
            "type": "scatterpolar"
           }
          ],
          "scatterpolargl": [
           {
            "marker": {
             "colorbar": {
              "outlinewidth": 0,
              "ticks": ""
             }
            },
            "type": "scatterpolargl"
           }
          ],
          "scatterternary": [
           {
            "marker": {
             "colorbar": {
              "outlinewidth": 0,
              "ticks": ""
             }
            },
            "type": "scatterternary"
           }
          ],
          "surface": [
           {
            "colorbar": {
             "outlinewidth": 0,
             "ticks": ""
            },
            "colorscale": [
             [
              0,
              "#0d0887"
             ],
             [
              0.1111111111111111,
              "#46039f"
             ],
             [
              0.2222222222222222,
              "#7201a8"
             ],
             [
              0.3333333333333333,
              "#9c179e"
             ],
             [
              0.4444444444444444,
              "#bd3786"
             ],
             [
              0.5555555555555556,
              "#d8576b"
             ],
             [
              0.6666666666666666,
              "#ed7953"
             ],
             [
              0.7777777777777778,
              "#fb9f3a"
             ],
             [
              0.8888888888888888,
              "#fdca26"
             ],
             [
              1,
              "#f0f921"
             ]
            ],
            "type": "surface"
           }
          ],
          "table": [
           {
            "cells": {
             "fill": {
              "color": "#EBF0F8"
             },
             "line": {
              "color": "white"
             }
            },
            "header": {
             "fill": {
              "color": "#C8D4E3"
             },
             "line": {
              "color": "white"
             }
            },
            "type": "table"
           }
          ]
         },
         "layout": {
          "annotationdefaults": {
           "arrowcolor": "#2a3f5f",
           "arrowhead": 0,
           "arrowwidth": 1
          },
          "autotypenumbers": "strict",
          "coloraxis": {
           "colorbar": {
            "outlinewidth": 0,
            "ticks": ""
           }
          },
          "colorscale": {
           "diverging": [
            [
             0,
             "#8e0152"
            ],
            [
             0.1,
             "#c51b7d"
            ],
            [
             0.2,
             "#de77ae"
            ],
            [
             0.3,
             "#f1b6da"
            ],
            [
             0.4,
             "#fde0ef"
            ],
            [
             0.5,
             "#f7f7f7"
            ],
            [
             0.6,
             "#e6f5d0"
            ],
            [
             0.7,
             "#b8e186"
            ],
            [
             0.8,
             "#7fbc41"
            ],
            [
             0.9,
             "#4d9221"
            ],
            [
             1,
             "#276419"
            ]
           ],
           "sequential": [
            [
             0,
             "#0d0887"
            ],
            [
             0.1111111111111111,
             "#46039f"
            ],
            [
             0.2222222222222222,
             "#7201a8"
            ],
            [
             0.3333333333333333,
             "#9c179e"
            ],
            [
             0.4444444444444444,
             "#bd3786"
            ],
            [
             0.5555555555555556,
             "#d8576b"
            ],
            [
             0.6666666666666666,
             "#ed7953"
            ],
            [
             0.7777777777777778,
             "#fb9f3a"
            ],
            [
             0.8888888888888888,
             "#fdca26"
            ],
            [
             1,
             "#f0f921"
            ]
           ],
           "sequentialminus": [
            [
             0,
             "#0d0887"
            ],
            [
             0.1111111111111111,
             "#46039f"
            ],
            [
             0.2222222222222222,
             "#7201a8"
            ],
            [
             0.3333333333333333,
             "#9c179e"
            ],
            [
             0.4444444444444444,
             "#bd3786"
            ],
            [
             0.5555555555555556,
             "#d8576b"
            ],
            [
             0.6666666666666666,
             "#ed7953"
            ],
            [
             0.7777777777777778,
             "#fb9f3a"
            ],
            [
             0.8888888888888888,
             "#fdca26"
            ],
            [
             1,
             "#f0f921"
            ]
           ]
          },
          "colorway": [
           "#636efa",
           "#EF553B",
           "#00cc96",
           "#ab63fa",
           "#FFA15A",
           "#19d3f3",
           "#FF6692",
           "#B6E880",
           "#FF97FF",
           "#FECB52"
          ],
          "font": {
           "color": "#2a3f5f"
          },
          "geo": {
           "bgcolor": "white",
           "lakecolor": "white",
           "landcolor": "#E5ECF6",
           "showlakes": true,
           "showland": true,
           "subunitcolor": "white"
          },
          "hoverlabel": {
           "align": "left"
          },
          "hovermode": "closest",
          "mapbox": {
           "style": "light"
          },
          "paper_bgcolor": "white",
          "plot_bgcolor": "#E5ECF6",
          "polar": {
           "angularaxis": {
            "gridcolor": "white",
            "linecolor": "white",
            "ticks": ""
           },
           "bgcolor": "#E5ECF6",
           "radialaxis": {
            "gridcolor": "white",
            "linecolor": "white",
            "ticks": ""
           }
          },
          "scene": {
           "xaxis": {
            "backgroundcolor": "#E5ECF6",
            "gridcolor": "white",
            "gridwidth": 2,
            "linecolor": "white",
            "showbackground": true,
            "ticks": "",
            "zerolinecolor": "white"
           },
           "yaxis": {
            "backgroundcolor": "#E5ECF6",
            "gridcolor": "white",
            "gridwidth": 2,
            "linecolor": "white",
            "showbackground": true,
            "ticks": "",
            "zerolinecolor": "white"
           },
           "zaxis": {
            "backgroundcolor": "#E5ECF6",
            "gridcolor": "white",
            "gridwidth": 2,
            "linecolor": "white",
            "showbackground": true,
            "ticks": "",
            "zerolinecolor": "white"
           }
          },
          "shapedefaults": {
           "line": {
            "color": "#2a3f5f"
           }
          },
          "ternary": {
           "aaxis": {
            "gridcolor": "white",
            "linecolor": "white",
            "ticks": ""
           },
           "baxis": {
            "gridcolor": "white",
            "linecolor": "white",
            "ticks": ""
           },
           "bgcolor": "#E5ECF6",
           "caxis": {
            "gridcolor": "white",
            "linecolor": "white",
            "ticks": ""
           }
          },
          "title": {
           "x": 0.05
          },
          "xaxis": {
           "automargin": true,
           "gridcolor": "white",
           "linecolor": "white",
           "ticks": "",
           "title": {
            "standoff": 15
           },
           "zerolinecolor": "white",
           "zerolinewidth": 2
          },
          "yaxis": {
           "automargin": true,
           "gridcolor": "white",
           "linecolor": "white",
           "ticks": "",
           "title": {
            "standoff": 15
           },
           "zerolinecolor": "white",
           "zerolinewidth": 2
          }
         }
        }
       }
      }
     },
     "metadata": {},
     "output_type": "display_data"
    }
   ],
   "source": [
    "import plotly.express as px\n",
    "fig = px.scatter_3d(X[200:300],x=0,y=1,z=2,color = y[200:300])\n",
    "fig.show()"
   ]
  }
 ],
 "metadata": {
  "kernelspec": {
   "display_name": "Python 3",
   "language": "python",
   "name": "python3"
  },
  "language_info": {
   "codemirror_mode": {
    "name": "ipython",
    "version": 3
   },
   "file_extension": ".py",
   "mimetype": "text/x-python",
   "name": "python",
   "nbconvert_exporter": "python",
   "pygments_lexer": "ipython3",
   "version": "3.12.0"
  }
 },
 "nbformat": 4,
 "nbformat_minor": 2
}
