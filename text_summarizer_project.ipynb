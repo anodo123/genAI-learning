{
 "cells": [
  {
   "cell_type": "code",
   "execution_count": 1,
   "metadata": {},
   "outputs": [
    {
     "name": "stdout",
     "output_type": "stream",
     "text": [
      "Wed Jan  1 18:04:19 2025       \n",
      "+-----------------------------------------------------------------------------------------+\n",
      "| NVIDIA-SMI 560.81                 Driver Version: 560.81         CUDA Version: 12.6     |\n",
      "|-----------------------------------------+------------------------+----------------------+\n",
      "| GPU  Name                  Driver-Model | Bus-Id          Disp.A | Volatile Uncorr. ECC |\n",
      "| Fan  Temp   Perf          Pwr:Usage/Cap |           Memory-Usage | GPU-Util  Compute M. |\n",
      "|                                         |                        |               MIG M. |\n",
      "|=========================================+========================+======================|\n",
      "|   0  NVIDIA GeForce RTX 3050 ...  WDDM  |   00000000:01:00.0 Off |                  N/A |\n",
      "| N/A   54C    P3             17W /   35W |       0MiB /   4096MiB |      0%      Default |\n",
      "|                                         |                        |                  N/A |\n",
      "+-----------------------------------------+------------------------+----------------------+\n",
      "                                                                                         \n",
      "+-----------------------------------------------------------------------------------------+\n",
      "| Processes:                                                                              |\n",
      "|  GPU   GI   CI        PID   Type   Process name                              GPU Memory |\n",
      "|        ID   ID                                                               Usage      |\n",
      "|=========================================================================================|\n",
      "|  No running processes found                                                             |\n",
      "+-----------------------------------------------------------------------------------------+\n"
     ]
    }
   ],
   "source": [
    "!nvidia-smi"
   ]
  },
  {
   "cell_type": "code",
   "execution_count": 2,
   "metadata": {},
   "outputs": [
    {
     "name": "stdout",
     "output_type": "stream",
     "text": [
      "Note: you may need to restart the kernel to use updated packages.\n"
     ]
    },
    {
     "name": "stderr",
     "output_type": "stream",
     "text": [
      "ERROR: pip's dependency resolver does not currently take into account all the packages that are installed. This behaviour is the source of the following dependency conflicts.\n",
      "kiteconnect 5.0.1 requires autobahn[twisted]==19.11.2, but you have autobahn 24.4.2 which is incompatible.\n"
     ]
    }
   ],
   "source": [
    "%pip install transformers[sentencepiece] datasets sacrebleu rouge_score py7zr -q"
   ]
  },
  {
   "cell_type": "code",
   "execution_count": 3,
   "metadata": {},
   "outputs": [
    {
     "name": "stdout",
     "output_type": "stream",
     "text": [
      "Collecting accelerate\n",
      "  Downloading accelerate-1.2.1-py3-none-any.whl.metadata (19 kB)\n",
      "Requirement already satisfied: numpy<3.0.0,>=1.17 in c:\\users\\ahmed\\appdata\\local\\programs\\python\\python312\\lib\\site-packages (from accelerate) (1.26.4)\n",
      "Requirement already satisfied: packaging>=20.0 in c:\\users\\ahmed\\appdata\\local\\programs\\python\\python312\\lib\\site-packages (from accelerate) (23.2)\n",
      "Requirement already satisfied: psutil in c:\\users\\ahmed\\appdata\\roaming\\python\\python312\\site-packages (from accelerate) (5.9.8)\n",
      "Requirement already satisfied: pyyaml in c:\\users\\ahmed\\appdata\\local\\programs\\python\\python312\\lib\\site-packages (from accelerate) (6.0.1)\n",
      "Collecting torch>=1.10.0 (from accelerate)\n",
      "  Downloading torch-2.5.1-cp312-cp312-win_amd64.whl.metadata (28 kB)\n",
      "Requirement already satisfied: huggingface-hub>=0.21.0 in c:\\users\\ahmed\\appdata\\local\\programs\\python\\python312\\lib\\site-packages (from accelerate) (0.24.0)\n",
      "Requirement already satisfied: safetensors>=0.4.3 in c:\\users\\ahmed\\appdata\\local\\programs\\python\\python312\\lib\\site-packages (from accelerate) (0.4.3)\n",
      "Requirement already satisfied: filelock in c:\\users\\ahmed\\appdata\\local\\programs\\python\\python312\\lib\\site-packages (from huggingface-hub>=0.21.0->accelerate) (3.15.4)\n",
      "Requirement already satisfied: fsspec>=2023.5.0 in c:\\users\\ahmed\\appdata\\local\\programs\\python\\python312\\lib\\site-packages (from huggingface-hub>=0.21.0->accelerate) (2024.6.1)\n",
      "Requirement already satisfied: requests in c:\\users\\ahmed\\appdata\\local\\programs\\python\\python312\\lib\\site-packages (from huggingface-hub>=0.21.0->accelerate) (2.32.3)\n",
      "Requirement already satisfied: tqdm>=4.42.1 in c:\\users\\ahmed\\appdata\\local\\programs\\python\\python312\\lib\\site-packages (from huggingface-hub>=0.21.0->accelerate) (4.67.1)\n",
      "Requirement already satisfied: typing-extensions>=3.7.4.3 in c:\\users\\ahmed\\appdata\\local\\programs\\python\\python312\\lib\\site-packages (from huggingface-hub>=0.21.0->accelerate) (4.8.0)\n",
      "Requirement already satisfied: networkx in c:\\users\\ahmed\\appdata\\local\\programs\\python\\python312\\lib\\site-packages (from torch>=1.10.0->accelerate) (3.2.1)\n",
      "Collecting jinja2 (from torch>=1.10.0->accelerate)\n",
      "  Downloading jinja2-3.1.5-py3-none-any.whl.metadata (2.6 kB)\n",
      "Requirement already satisfied: setuptools in c:\\users\\ahmed\\appdata\\local\\programs\\python\\python312\\lib\\site-packages (from torch>=1.10.0->accelerate) (70.2.0)\n",
      "Collecting sympy==1.13.1 (from torch>=1.10.0->accelerate)\n",
      "  Downloading sympy-1.13.1-py3-none-any.whl.metadata (12 kB)\n",
      "Collecting mpmath<1.4,>=1.1.0 (from sympy==1.13.1->torch>=1.10.0->accelerate)\n",
      "  Downloading mpmath-1.3.0-py3-none-any.whl.metadata (8.6 kB)\n",
      "Requirement already satisfied: colorama in c:\\users\\ahmed\\appdata\\local\\programs\\python\\python312\\lib\\site-packages (from tqdm>=4.42.1->huggingface-hub>=0.21.0->accelerate) (0.4.6)\n",
      "Requirement already satisfied: MarkupSafe>=2.0 in c:\\users\\ahmed\\appdata\\local\\programs\\python\\python312\\lib\\site-packages (from jinja2->torch>=1.10.0->accelerate) (3.0.2)\n",
      "Requirement already satisfied: charset-normalizer<4,>=2 in c:\\users\\ahmed\\appdata\\local\\programs\\python\\python312\\lib\\site-packages (from requests->huggingface-hub>=0.21.0->accelerate) (3.3.2)\n",
      "Requirement already satisfied: idna<4,>=2.5 in c:\\users\\ahmed\\appdata\\local\\programs\\python\\python312\\lib\\site-packages (from requests->huggingface-hub>=0.21.0->accelerate) (3.4)\n",
      "Requirement already satisfied: urllib3<3,>=1.21.1 in c:\\users\\ahmed\\appdata\\local\\programs\\python\\python312\\lib\\site-packages (from requests->huggingface-hub>=0.21.0->accelerate) (2.0.7)\n",
      "Requirement already satisfied: certifi>=2017.4.17 in c:\\users\\ahmed\\appdata\\local\\programs\\python\\python312\\lib\\site-packages (from requests->huggingface-hub>=0.21.0->accelerate) (2023.7.22)\n",
      "Downloading accelerate-1.2.1-py3-none-any.whl (336 kB)\n",
      "Downloading torch-2.5.1-cp312-cp312-win_amd64.whl (203.0 MB)\n",
      "   ---------------------------------------- 0.0/203.0 MB ? eta -:--:--\n",
      "    --------------------------------------- 4.7/203.0 MB 25.9 MB/s eta 0:00:08\n",
      "   -- ------------------------------------- 10.2/203.0 MB 25.5 MB/s eta 0:00:08\n",
      "   -- ------------------------------------- 13.4/203.0 MB 22.7 MB/s eta 0:00:09\n",
      "   -- ------------------------------------- 14.4/203.0 MB 17.8 MB/s eta 0:00:11\n",
      "   --- ------------------------------------ 15.5/203.0 MB 14.7 MB/s eta 0:00:13\n",
      "   --- ------------------------------------ 16.5/203.0 MB 13.2 MB/s eta 0:00:15\n",
      "   --- ------------------------------------ 17.8/203.0 MB 12.1 MB/s eta 0:00:16\n",
      "   --- ------------------------------------ 19.1/203.0 MB 11.5 MB/s eta 0:00:16\n",
      "   ---- ----------------------------------- 20.7/203.0 MB 10.7 MB/s eta 0:00:17\n",
      "   ---- ----------------------------------- 22.3/203.0 MB 10.5 MB/s eta 0:00:18\n",
      "   ---- ----------------------------------- 24.1/203.0 MB 10.4 MB/s eta 0:00:18\n",
      "   ----- ---------------------------------- 26.2/203.0 MB 10.3 MB/s eta 0:00:18\n",
      "   ----- ---------------------------------- 28.3/203.0 MB 10.3 MB/s eta 0:00:18\n",
      "   ------ --------------------------------- 30.9/203.0 MB 10.3 MB/s eta 0:00:17\n",
      "   ------ --------------------------------- 33.3/203.0 MB 10.4 MB/s eta 0:00:17\n",
      "   ------- -------------------------------- 35.9/203.0 MB 10.5 MB/s eta 0:00:16\n",
      "   ------- -------------------------------- 38.8/203.0 MB 10.7 MB/s eta 0:00:16\n",
      "   -------- ------------------------------- 41.7/203.0 MB 10.8 MB/s eta 0:00:15\n",
      "   -------- ------------------------------- 44.8/203.0 MB 11.1 MB/s eta 0:00:15\n",
      "   --------- ------------------------------ 48.0/203.0 MB 11.2 MB/s eta 0:00:14\n",
      "   ---------- ----------------------------- 51.1/203.0 MB 11.4 MB/s eta 0:00:14\n",
      "   ---------- ----------------------------- 54.0/203.0 MB 11.5 MB/s eta 0:00:13\n",
      "   ----------- ---------------------------- 57.1/203.0 MB 11.6 MB/s eta 0:00:13\n",
      "   ----------- ---------------------------- 60.8/203.0 MB 11.8 MB/s eta 0:00:13\n",
      "   ------------ --------------------------- 63.2/203.0 MB 11.8 MB/s eta 0:00:12\n",
      "   ------------ --------------------------- 64.7/203.0 MB 11.6 MB/s eta 0:00:12\n",
      "   ------------- -------------------------- 66.3/203.0 MB 11.5 MB/s eta 0:00:12\n",
      "   ------------- -------------------------- 68.2/203.0 MB 11.3 MB/s eta 0:00:12\n",
      "   ------------- -------------------------- 70.0/203.0 MB 11.3 MB/s eta 0:00:12\n",
      "   -------------- ------------------------- 72.1/203.0 MB 11.2 MB/s eta 0:00:12\n",
      "   -------------- ------------------------- 73.9/203.0 MB 11.1 MB/s eta 0:00:12\n",
      "   -------------- ------------------------- 76.0/203.0 MB 11.1 MB/s eta 0:00:12\n",
      "   --------------- ------------------------ 78.6/203.0 MB 11.1 MB/s eta 0:00:12\n",
      "   ---------------- ----------------------- 81.3/203.0 MB 11.1 MB/s eta 0:00:11\n",
      "   ---------------- ----------------------- 83.9/203.0 MB 11.2 MB/s eta 0:00:11\n",
      "   ----------------- ---------------------- 86.5/203.0 MB 11.2 MB/s eta 0:00:11\n",
      "   ----------------- ---------------------- 89.1/203.0 MB 11.2 MB/s eta 0:00:11\n",
      "   ------------------ --------------------- 92.3/203.0 MB 11.3 MB/s eta 0:00:10\n",
      "   ------------------ --------------------- 95.2/203.0 MB 11.4 MB/s eta 0:00:10\n",
      "   ------------------- -------------------- 98.6/203.0 MB 11.5 MB/s eta 0:00:10\n",
      "   ------------------- ------------------- 102.2/203.0 MB 11.6 MB/s eta 0:00:09\n",
      "   -------------------- ------------------ 105.6/203.0 MB 11.7 MB/s eta 0:00:09\n",
      "   -------------------- ------------------ 107.7/203.0 MB 11.7 MB/s eta 0:00:09\n",
      "   -------------------- ------------------ 109.1/203.0 MB 11.6 MB/s eta 0:00:09\n",
      "   --------------------- ----------------- 110.6/203.0 MB 11.5 MB/s eta 0:00:09\n",
      "   --------------------- ----------------- 112.2/203.0 MB 11.4 MB/s eta 0:00:08\n",
      "   --------------------- ----------------- 114.0/203.0 MB 11.3 MB/s eta 0:00:08\n",
      "   ---------------------- ---------------- 116.1/203.0 MB 11.3 MB/s eta 0:00:08\n",
      "   ---------------------- ---------------- 118.2/203.0 MB 11.3 MB/s eta 0:00:08\n",
      "   ----------------------- --------------- 120.3/203.0 MB 11.3 MB/s eta 0:00:08\n",
      "   ----------------------- --------------- 122.9/203.0 MB 11.3 MB/s eta 0:00:08\n",
      "   ------------------------ -------------- 125.6/203.0 MB 11.3 MB/s eta 0:00:07\n",
      "   ------------------------ -------------- 128.2/203.0 MB 11.3 MB/s eta 0:00:07\n",
      "   ------------------------- ------------- 131.1/203.0 MB 11.3 MB/s eta 0:00:07\n",
      "   ------------------------- ------------- 134.2/203.0 MB 11.4 MB/s eta 0:00:07\n",
      "   -------------------------- ------------ 137.1/203.0 MB 11.4 MB/s eta 0:00:06\n",
      "   -------------------------- ------------ 140.5/203.0 MB 11.5 MB/s eta 0:00:06\n",
      "   --------------------------- ----------- 143.4/203.0 MB 11.5 MB/s eta 0:00:06\n",
      "   ---------------------------- ---------- 146.5/203.0 MB 11.6 MB/s eta 0:00:05\n",
      "   ---------------------------- ---------- 150.2/203.0 MB 11.7 MB/s eta 0:00:05\n",
      "   ----------------------------- --------- 152.3/203.0 MB 11.7 MB/s eta 0:00:05\n",
      "   ----------------------------- --------- 154.4/203.0 MB 11.6 MB/s eta 0:00:05\n",
      "   ------------------------------ -------- 156.8/203.0 MB 11.6 MB/s eta 0:00:04\n",
      "   ------------------------------ -------- 159.1/203.0 MB 11.6 MB/s eta 0:00:04\n",
      "   ------------------------------- ------- 161.7/203.0 MB 11.6 MB/s eta 0:00:04\n",
      "   ------------------------------- ------- 164.1/203.0 MB 11.6 MB/s eta 0:00:04\n",
      "   -------------------------------- ------ 167.0/203.0 MB 11.6 MB/s eta 0:00:04\n",
      "   -------------------------------- ------ 170.1/203.0 MB 11.7 MB/s eta 0:00:03\n",
      "   --------------------------------- ----- 172.5/203.0 MB 11.7 MB/s eta 0:00:03\n",
      "   --------------------------------- ----- 175.1/203.0 MB 11.7 MB/s eta 0:00:03\n",
      "   ---------------------------------- ---- 177.5/203.0 MB 11.7 MB/s eta 0:00:03\n",
      "   ---------------------------------- ---- 179.8/203.0 MB 11.7 MB/s eta 0:00:02\n",
      "   ----------------------------------- --- 182.5/203.0 MB 11.7 MB/s eta 0:00:02\n",
      "   ----------------------------------- --- 185.6/203.0 MB 11.7 MB/s eta 0:00:02\n",
      "   ------------------------------------ -- 188.2/203.0 MB 11.7 MB/s eta 0:00:02\n",
      "   ------------------------------------ -- 191.1/203.0 MB 11.7 MB/s eta 0:00:02\n",
      "   ------------------------------------- - 193.5/203.0 MB 11.7 MB/s eta 0:00:01\n",
      "   ------------------------------------- - 196.1/203.0 MB 11.7 MB/s eta 0:00:01\n",
      "   --------------------------------------  198.7/203.0 MB 11.8 MB/s eta 0:00:01\n",
      "   --------------------------------------  201.6/203.0 MB 11.8 MB/s eta 0:00:01\n",
      "   --------------------------------------  202.9/203.0 MB 11.8 MB/s eta 0:00:01\n",
      "   --------------------------------------- 203.0/203.0 MB 11.6 MB/s eta 0:00:00\n",
      "Downloading sympy-1.13.1-py3-none-any.whl (6.2 MB)\n",
      "   ---------------------------------------- 0.0/6.2 MB ? eta -:--:--\n",
      "   ------------- -------------------------- 2.1/6.2 MB 10.7 MB/s eta 0:00:01\n",
      "   ---------------------------- ----------- 4.5/6.2 MB 10.7 MB/s eta 0:00:01\n",
      "   ---------------------------------------- 6.2/6.2 MB 10.8 MB/s eta 0:00:00\n",
      "Downloading jinja2-3.1.5-py3-none-any.whl (134 kB)\n",
      "Downloading mpmath-1.3.0-py3-none-any.whl (536 kB)\n",
      "   ---------------------------------------- 0.0/536.2 kB ? eta -:--:--\n",
      "   ---------------------------------------- 536.2/536.2 kB 8.8 MB/s eta 0:00:00\n",
      "Installing collected packages: mpmath, sympy, jinja2, torch, accelerate\n",
      "Successfully installed accelerate-1.2.1 jinja2-3.1.5 mpmath-1.3.0 sympy-1.13.1 torch-2.5.1\n",
      "Note: you may need to restart the kernel to use updated packages.\n"
     ]
    }
   ],
   "source": [
    "%pip install --upgrade accelerate"
   ]
  },
  {
   "cell_type": "code",
   "execution_count": null,
   "metadata": {},
   "outputs": [],
   "source": []
  },
  {
   "cell_type": "code",
   "execution_count": null,
   "metadata": {},
   "outputs": [],
   "source": []
  },
  {
   "cell_type": "code",
   "execution_count": null,
   "metadata": {},
   "outputs": [],
   "source": []
  }
 ],
 "metadata": {
  "kernelspec": {
   "display_name": "Python 3",
   "language": "python",
   "name": "python3"
  },
  "language_info": {
   "codemirror_mode": {
    "name": "ipython",
    "version": 3
   },
   "file_extension": ".py",
   "mimetype": "text/x-python",
   "name": "python",
   "nbconvert_exporter": "python",
   "pygments_lexer": "ipython3",
   "version": "3.12.0"
  }
 },
 "nbformat": 4,
 "nbformat_minor": 2
}
